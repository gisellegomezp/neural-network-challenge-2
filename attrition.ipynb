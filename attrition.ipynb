{
  "cells": [
    {
      "cell_type": "markdown",
      "metadata": {},
      "source": [
        "You are tasked with creating a neural network that HR can use to predict whether employees are likely to leave the company. Additionally, HR believes that some employees may be better suited to other departments, so you are also asked to predict the department that best fits each employee. These two columns should be predicted using a branched neural network."
      ]
    },
    {
      "cell_type": "markdown",
      "metadata": {
        "id": "alIIEHibGc3M"
      },
      "source": [
        "## Part 1: Preprocessing"
      ]
    },
    {
      "cell_type": "code",
      "execution_count": 1,
      "metadata": {},
      "outputs": [],
      "source": [
        "# Import our dependencies\n",
        "from sklearn.model_selection import train_test_split\n",
        "from sklearn.preprocessing import StandardScaler\n",
        "import pandas as pd\n",
        "import numpy as np\n",
        "import os\n",
        "import tensorflow as tf\n",
        "from keras import Model\n",
        "from keras import layers\n",
        "os.environ[\"KERAS_BACKEND\"] = \"tensorflow\""
      ]
    },
    {
      "cell_type": "code",
      "execution_count": 2,
      "metadata": {
        "colab": {
          "base_uri": "https://localhost:8080/",
          "height": 325
        },
        "id": "6eDUJ4NtGc3P",
        "outputId": "2480098c-135c-4cbf-9552-018494ee8ff5"
      },
      "outputs": [
        {
          "data": {
            "text/html": [
              "<div>\n",
              "<style scoped>\n",
              "    .dataframe tbody tr th:only-of-type {\n",
              "        vertical-align: middle;\n",
              "    }\n",
              "\n",
              "    .dataframe tbody tr th {\n",
              "        vertical-align: top;\n",
              "    }\n",
              "\n",
              "    .dataframe thead th {\n",
              "        text-align: right;\n",
              "    }\n",
              "</style>\n",
              "<table border=\"1\" class=\"dataframe\">\n",
              "  <thead>\n",
              "    <tr style=\"text-align: right;\">\n",
              "      <th></th>\n",
              "      <th>Age</th>\n",
              "      <th>Attrition</th>\n",
              "      <th>BusinessTravel</th>\n",
              "      <th>Department</th>\n",
              "      <th>DistanceFromHome</th>\n",
              "      <th>Education</th>\n",
              "      <th>EducationField</th>\n",
              "      <th>EnvironmentSatisfaction</th>\n",
              "      <th>HourlyRate</th>\n",
              "      <th>JobInvolvement</th>\n",
              "      <th>...</th>\n",
              "      <th>PerformanceRating</th>\n",
              "      <th>RelationshipSatisfaction</th>\n",
              "      <th>StockOptionLevel</th>\n",
              "      <th>TotalWorkingYears</th>\n",
              "      <th>TrainingTimesLastYear</th>\n",
              "      <th>WorkLifeBalance</th>\n",
              "      <th>YearsAtCompany</th>\n",
              "      <th>YearsInCurrentRole</th>\n",
              "      <th>YearsSinceLastPromotion</th>\n",
              "      <th>YearsWithCurrManager</th>\n",
              "    </tr>\n",
              "  </thead>\n",
              "  <tbody>\n",
              "    <tr>\n",
              "      <th>0</th>\n",
              "      <td>41</td>\n",
              "      <td>Yes</td>\n",
              "      <td>Travel_Rarely</td>\n",
              "      <td>Sales</td>\n",
              "      <td>1</td>\n",
              "      <td>2</td>\n",
              "      <td>Life Sciences</td>\n",
              "      <td>2</td>\n",
              "      <td>94</td>\n",
              "      <td>3</td>\n",
              "      <td>...</td>\n",
              "      <td>3</td>\n",
              "      <td>1</td>\n",
              "      <td>0</td>\n",
              "      <td>8</td>\n",
              "      <td>0</td>\n",
              "      <td>1</td>\n",
              "      <td>6</td>\n",
              "      <td>4</td>\n",
              "      <td>0</td>\n",
              "      <td>5</td>\n",
              "    </tr>\n",
              "    <tr>\n",
              "      <th>1</th>\n",
              "      <td>49</td>\n",
              "      <td>No</td>\n",
              "      <td>Travel_Frequently</td>\n",
              "      <td>Research &amp; Development</td>\n",
              "      <td>8</td>\n",
              "      <td>1</td>\n",
              "      <td>Life Sciences</td>\n",
              "      <td>3</td>\n",
              "      <td>61</td>\n",
              "      <td>2</td>\n",
              "      <td>...</td>\n",
              "      <td>4</td>\n",
              "      <td>4</td>\n",
              "      <td>1</td>\n",
              "      <td>10</td>\n",
              "      <td>3</td>\n",
              "      <td>3</td>\n",
              "      <td>10</td>\n",
              "      <td>7</td>\n",
              "      <td>1</td>\n",
              "      <td>7</td>\n",
              "    </tr>\n",
              "    <tr>\n",
              "      <th>2</th>\n",
              "      <td>37</td>\n",
              "      <td>Yes</td>\n",
              "      <td>Travel_Rarely</td>\n",
              "      <td>Research &amp; Development</td>\n",
              "      <td>2</td>\n",
              "      <td>2</td>\n",
              "      <td>Other</td>\n",
              "      <td>4</td>\n",
              "      <td>92</td>\n",
              "      <td>2</td>\n",
              "      <td>...</td>\n",
              "      <td>3</td>\n",
              "      <td>2</td>\n",
              "      <td>0</td>\n",
              "      <td>7</td>\n",
              "      <td>3</td>\n",
              "      <td>3</td>\n",
              "      <td>0</td>\n",
              "      <td>0</td>\n",
              "      <td>0</td>\n",
              "      <td>0</td>\n",
              "    </tr>\n",
              "    <tr>\n",
              "      <th>3</th>\n",
              "      <td>33</td>\n",
              "      <td>No</td>\n",
              "      <td>Travel_Frequently</td>\n",
              "      <td>Research &amp; Development</td>\n",
              "      <td>3</td>\n",
              "      <td>4</td>\n",
              "      <td>Life Sciences</td>\n",
              "      <td>4</td>\n",
              "      <td>56</td>\n",
              "      <td>3</td>\n",
              "      <td>...</td>\n",
              "      <td>3</td>\n",
              "      <td>3</td>\n",
              "      <td>0</td>\n",
              "      <td>8</td>\n",
              "      <td>3</td>\n",
              "      <td>3</td>\n",
              "      <td>8</td>\n",
              "      <td>7</td>\n",
              "      <td>3</td>\n",
              "      <td>0</td>\n",
              "    </tr>\n",
              "    <tr>\n",
              "      <th>4</th>\n",
              "      <td>27</td>\n",
              "      <td>No</td>\n",
              "      <td>Travel_Rarely</td>\n",
              "      <td>Research &amp; Development</td>\n",
              "      <td>2</td>\n",
              "      <td>1</td>\n",
              "      <td>Medical</td>\n",
              "      <td>1</td>\n",
              "      <td>40</td>\n",
              "      <td>3</td>\n",
              "      <td>...</td>\n",
              "      <td>3</td>\n",
              "      <td>4</td>\n",
              "      <td>1</td>\n",
              "      <td>6</td>\n",
              "      <td>3</td>\n",
              "      <td>3</td>\n",
              "      <td>2</td>\n",
              "      <td>2</td>\n",
              "      <td>2</td>\n",
              "      <td>2</td>\n",
              "    </tr>\n",
              "  </tbody>\n",
              "</table>\n",
              "<p>5 rows × 27 columns</p>\n",
              "</div>"
            ],
            "text/plain": [
              "   Age Attrition     BusinessTravel              Department  DistanceFromHome  \\\n",
              "0   41       Yes      Travel_Rarely                   Sales                 1   \n",
              "1   49        No  Travel_Frequently  Research & Development                 8   \n",
              "2   37       Yes      Travel_Rarely  Research & Development                 2   \n",
              "3   33        No  Travel_Frequently  Research & Development                 3   \n",
              "4   27        No      Travel_Rarely  Research & Development                 2   \n",
              "\n",
              "   Education EducationField  EnvironmentSatisfaction  HourlyRate  \\\n",
              "0          2  Life Sciences                        2          94   \n",
              "1          1  Life Sciences                        3          61   \n",
              "2          2          Other                        4          92   \n",
              "3          4  Life Sciences                        4          56   \n",
              "4          1        Medical                        1          40   \n",
              "\n",
              "   JobInvolvement  ...  PerformanceRating RelationshipSatisfaction  \\\n",
              "0               3  ...                  3                        1   \n",
              "1               2  ...                  4                        4   \n",
              "2               2  ...                  3                        2   \n",
              "3               3  ...                  3                        3   \n",
              "4               3  ...                  3                        4   \n",
              "\n",
              "   StockOptionLevel TotalWorkingYears  TrainingTimesLastYear WorkLifeBalance  \\\n",
              "0                 0                 8                      0               1   \n",
              "1                 1                10                      3               3   \n",
              "2                 0                 7                      3               3   \n",
              "3                 0                 8                      3               3   \n",
              "4                 1                 6                      3               3   \n",
              "\n",
              "   YearsAtCompany  YearsInCurrentRole  YearsSinceLastPromotion  \\\n",
              "0               6                   4                        0   \n",
              "1              10                   7                        1   \n",
              "2               0                   0                        0   \n",
              "3               8                   7                        3   \n",
              "4               2                   2                        2   \n",
              "\n",
              "   YearsWithCurrManager  \n",
              "0                     5  \n",
              "1                     7  \n",
              "2                     0  \n",
              "3                     0  \n",
              "4                     2  \n",
              "\n",
              "[5 rows x 27 columns]"
            ]
          },
          "execution_count": 2,
          "metadata": {},
          "output_type": "execute_result"
        }
      ],
      "source": [
        "#  Import and read the attrition data\n",
        "attrition_df = pd.read_csv('https://static.bc-edx.com/ai/ail-v-1-0/m19/lms/datasets/attrition.csv')\n",
        "attrition_df.head()"
      ]
    },
    {
      "cell_type": "code",
      "execution_count": 3,
      "metadata": {
        "colab": {
          "base_uri": "https://localhost:8080/"
        },
        "id": "g22aQSY4Gc3Q",
        "outputId": "1f5c13c1-b981-4e40-a7ed-dd3fe6f1b81e"
      },
      "outputs": [
        {
          "data": {
            "text/plain": [
              "Age                         43\n",
              "Attrition                    2\n",
              "BusinessTravel               3\n",
              "Department                   3\n",
              "DistanceFromHome            29\n",
              "Education                    5\n",
              "EducationField               6\n",
              "EnvironmentSatisfaction      4\n",
              "HourlyRate                  71\n",
              "JobInvolvement               4\n",
              "JobLevel                     5\n",
              "JobRole                      9\n",
              "JobSatisfaction              4\n",
              "MaritalStatus                3\n",
              "NumCompaniesWorked          10\n",
              "OverTime                     2\n",
              "PercentSalaryHike           15\n",
              "PerformanceRating            2\n",
              "RelationshipSatisfaction     4\n",
              "StockOptionLevel             4\n",
              "TotalWorkingYears           40\n",
              "TrainingTimesLastYear        7\n",
              "WorkLifeBalance              4\n",
              "YearsAtCompany              37\n",
              "YearsInCurrentRole          19\n",
              "YearsSinceLastPromotion     16\n",
              "YearsWithCurrManager        18\n",
              "dtype: int64"
            ]
          },
          "execution_count": 3,
          "metadata": {},
          "output_type": "execute_result"
        }
      ],
      "source": [
        "# Determine the number of unique values in each column.\n",
        "attrition_df.nunique()"
      ]
    },
    {
      "cell_type": "code",
      "execution_count": 4,
      "metadata": {},
      "outputs": [
        {
          "name": "stdout",
          "output_type": "stream",
          "text": [
            "<class 'pandas.core.frame.DataFrame'>\n",
            "RangeIndex: 1470 entries, 0 to 1469\n",
            "Data columns (total 27 columns):\n",
            " #   Column                    Non-Null Count  Dtype \n",
            "---  ------                    --------------  ----- \n",
            " 0   Age                       1470 non-null   int64 \n",
            " 1   Attrition                 1470 non-null   object\n",
            " 2   BusinessTravel            1470 non-null   object\n",
            " 3   Department                1470 non-null   object\n",
            " 4   DistanceFromHome          1470 non-null   int64 \n",
            " 5   Education                 1470 non-null   int64 \n",
            " 6   EducationField            1470 non-null   object\n",
            " 7   EnvironmentSatisfaction   1470 non-null   int64 \n",
            " 8   HourlyRate                1470 non-null   int64 \n",
            " 9   JobInvolvement            1470 non-null   int64 \n",
            " 10  JobLevel                  1470 non-null   int64 \n",
            " 11  JobRole                   1470 non-null   object\n",
            " 12  JobSatisfaction           1470 non-null   int64 \n",
            " 13  MaritalStatus             1470 non-null   object\n",
            " 14  NumCompaniesWorked        1470 non-null   int64 \n",
            " 15  OverTime                  1470 non-null   object\n",
            " 16  PercentSalaryHike         1470 non-null   int64 \n",
            " 17  PerformanceRating         1470 non-null   int64 \n",
            " 18  RelationshipSatisfaction  1470 non-null   int64 \n",
            " 19  StockOptionLevel          1470 non-null   int64 \n",
            " 20  TotalWorkingYears         1470 non-null   int64 \n",
            " 21  TrainingTimesLastYear     1470 non-null   int64 \n",
            " 22  WorkLifeBalance           1470 non-null   int64 \n",
            " 23  YearsAtCompany            1470 non-null   int64 \n",
            " 24  YearsInCurrentRole        1470 non-null   int64 \n",
            " 25  YearsSinceLastPromotion   1470 non-null   int64 \n",
            " 26  YearsWithCurrManager      1470 non-null   int64 \n",
            "dtypes: int64(20), object(7)\n",
            "memory usage: 310.2+ KB\n"
          ]
        }
      ],
      "source": [
        "attrition_df.info()"
      ]
    },
    {
      "cell_type": "code",
      "execution_count": 5,
      "metadata": {},
      "outputs": [
        {
          "data": {
            "text/html": [
              "<div>\n",
              "<style scoped>\n",
              "    .dataframe tbody tr th:only-of-type {\n",
              "        vertical-align: middle;\n",
              "    }\n",
              "\n",
              "    .dataframe tbody tr th {\n",
              "        vertical-align: top;\n",
              "    }\n",
              "\n",
              "    .dataframe thead th {\n",
              "        text-align: right;\n",
              "    }\n",
              "</style>\n",
              "<table border=\"1\" class=\"dataframe\">\n",
              "  <thead>\n",
              "    <tr style=\"text-align: right;\">\n",
              "      <th></th>\n",
              "      <th>Attrition</th>\n",
              "      <th>Department</th>\n",
              "    </tr>\n",
              "  </thead>\n",
              "  <tbody>\n",
              "    <tr>\n",
              "      <th>0</th>\n",
              "      <td>Yes</td>\n",
              "      <td>Sales</td>\n",
              "    </tr>\n",
              "    <tr>\n",
              "      <th>1</th>\n",
              "      <td>No</td>\n",
              "      <td>Research &amp; Development</td>\n",
              "    </tr>\n",
              "    <tr>\n",
              "      <th>2</th>\n",
              "      <td>Yes</td>\n",
              "      <td>Research &amp; Development</td>\n",
              "    </tr>\n",
              "    <tr>\n",
              "      <th>3</th>\n",
              "      <td>No</td>\n",
              "      <td>Research &amp; Development</td>\n",
              "    </tr>\n",
              "    <tr>\n",
              "      <th>4</th>\n",
              "      <td>No</td>\n",
              "      <td>Research &amp; Development</td>\n",
              "    </tr>\n",
              "  </tbody>\n",
              "</table>\n",
              "</div>"
            ],
            "text/plain": [
              "  Attrition              Department\n",
              "0       Yes                   Sales\n",
              "1        No  Research & Development\n",
              "2       Yes  Research & Development\n",
              "3        No  Research & Development\n",
              "4        No  Research & Development"
            ]
          },
          "execution_count": 5,
          "metadata": {},
          "output_type": "execute_result"
        }
      ],
      "source": [
        "# Create y_df with the Attrition and Department columns\n",
        "y_df = attrition_df[[\"Attrition\", \"Department\"]]\n",
        "y_df.head()"
      ]
    },
    {
      "cell_type": "code",
      "execution_count": 6,
      "metadata": {},
      "outputs": [],
      "source": [
        "y_department = y_df['Department']\n",
        "y_attrition = y_df['Attrition']"
      ]
    },
    {
      "cell_type": "code",
      "execution_count": 7,
      "metadata": {
        "colab": {
          "base_uri": "https://localhost:8080/"
        },
        "id": "Virka0zLGc3R",
        "outputId": "dd5aee3a-9458-4ba6-e857-1b234de40915"
      },
      "outputs": [
        {
          "data": {
            "text/plain": [
              "Education                   int64\n",
              "Age                         int64\n",
              "DistanceFromHome            int64\n",
              "JobSatisfaction             int64\n",
              "OverTime                   object\n",
              "StockOptionLevel            int64\n",
              "WorkLifeBalance             int64\n",
              "YearsAtCompany              int64\n",
              "YearsSinceLastPromotion     int64\n",
              "NumCompaniesWorked          int64\n",
              "dtype: object"
            ]
          },
          "execution_count": 7,
          "metadata": {},
          "output_type": "execute_result"
        }
      ],
      "source": [
        "# Create a list of at least 10 column names to use as X data\n",
        "selected_columns = [\n",
        "    \"Education\",\n",
        "    \"Age\",\n",
        "    \"DistanceFromHome\",\n",
        "    \"JobSatisfaction\",\n",
        "    \"OverTime\",\n",
        "    \"StockOptionLevel\",\n",
        "    \"WorkLifeBalance\",\n",
        "    \"YearsAtCompany\",\n",
        "    \"YearsSinceLastPromotion\",\n",
        "    \"NumCompaniesWorked\"\n",
        "]\n",
        "\n",
        "# Create X_df using your selected columns\n",
        "X_df = attrition_df[selected_columns]\n",
        "\n",
        "# Show the data types for X_df\n",
        "X_df.dtypes\n"
      ]
    },
    {
      "cell_type": "code",
      "execution_count": 8,
      "metadata": {
        "id": "KaJfdOGUMHMR"
      },
      "outputs": [],
      "source": [
        "# Split the data into training and testing sets (80% training, 20% testing)\n",
        "X_train, X_test, y_department_train, y_department_test, y_attrition_train, y_attrition_test = train_test_split(X_df, y_department, y_attrition, test_size=0.2, random_state=42)"
      ]
    },
    {
      "cell_type": "code",
      "execution_count": 9,
      "metadata": {},
      "outputs": [
        {
          "data": {
            "text/plain": [
              "OverTime\n",
              "No     1054\n",
              "Yes     416\n",
              "Name: count, dtype: int64"
            ]
          },
          "execution_count": 9,
          "metadata": {},
          "output_type": "execute_result"
        }
      ],
      "source": [
        "# Convert your X data to numeric data types however you see fit\n",
        "#Add new code cells as necessary\n",
        "X_df[\"OverTime\"].value_counts()"
      ]
    },
    {
      "cell_type": "code",
      "execution_count": 10,
      "metadata": {},
      "outputs": [
        {
          "data": {
            "text/html": [
              "<div>\n",
              "<style scoped>\n",
              "    .dataframe tbody tr th:only-of-type {\n",
              "        vertical-align: middle;\n",
              "    }\n",
              "\n",
              "    .dataframe tbody tr th {\n",
              "        vertical-align: top;\n",
              "    }\n",
              "\n",
              "    .dataframe thead th {\n",
              "        text-align: right;\n",
              "    }\n",
              "</style>\n",
              "<table border=\"1\" class=\"dataframe\">\n",
              "  <thead>\n",
              "    <tr style=\"text-align: right;\">\n",
              "      <th></th>\n",
              "      <th>Education</th>\n",
              "      <th>Age</th>\n",
              "      <th>DistanceFromHome</th>\n",
              "      <th>JobSatisfaction</th>\n",
              "      <th>OverTime</th>\n",
              "      <th>StockOptionLevel</th>\n",
              "      <th>WorkLifeBalance</th>\n",
              "      <th>YearsAtCompany</th>\n",
              "      <th>YearsSinceLastPromotion</th>\n",
              "      <th>NumCompaniesWorked</th>\n",
              "    </tr>\n",
              "  </thead>\n",
              "  <tbody>\n",
              "    <tr>\n",
              "      <th>1097</th>\n",
              "      <td>2</td>\n",
              "      <td>24</td>\n",
              "      <td>21</td>\n",
              "      <td>1</td>\n",
              "      <td>0</td>\n",
              "      <td>3</td>\n",
              "      <td>3</td>\n",
              "      <td>1</td>\n",
              "      <td>0</td>\n",
              "      <td>0</td>\n",
              "    </tr>\n",
              "    <tr>\n",
              "      <th>727</th>\n",
              "      <td>2</td>\n",
              "      <td>18</td>\n",
              "      <td>5</td>\n",
              "      <td>4</td>\n",
              "      <td>0</td>\n",
              "      <td>0</td>\n",
              "      <td>3</td>\n",
              "      <td>0</td>\n",
              "      <td>0</td>\n",
              "      <td>1</td>\n",
              "    </tr>\n",
              "    <tr>\n",
              "      <th>254</th>\n",
              "      <td>2</td>\n",
              "      <td>29</td>\n",
              "      <td>20</td>\n",
              "      <td>4</td>\n",
              "      <td>0</td>\n",
              "      <td>1</td>\n",
              "      <td>3</td>\n",
              "      <td>3</td>\n",
              "      <td>0</td>\n",
              "      <td>2</td>\n",
              "    </tr>\n",
              "    <tr>\n",
              "      <th>1175</th>\n",
              "      <td>3</td>\n",
              "      <td>39</td>\n",
              "      <td>12</td>\n",
              "      <td>2</td>\n",
              "      <td>0</td>\n",
              "      <td>0</td>\n",
              "      <td>3</td>\n",
              "      <td>5</td>\n",
              "      <td>1</td>\n",
              "      <td>4</td>\n",
              "    </tr>\n",
              "    <tr>\n",
              "      <th>1341</th>\n",
              "      <td>3</td>\n",
              "      <td>31</td>\n",
              "      <td>20</td>\n",
              "      <td>3</td>\n",
              "      <td>0</td>\n",
              "      <td>1</td>\n",
              "      <td>3</td>\n",
              "      <td>10</td>\n",
              "      <td>0</td>\n",
              "      <td>1</td>\n",
              "    </tr>\n",
              "  </tbody>\n",
              "</table>\n",
              "</div>"
            ],
            "text/plain": [
              "      Education  Age  DistanceFromHome  JobSatisfaction  OverTime  \\\n",
              "1097          2   24                21                1         0   \n",
              "727           2   18                 5                4         0   \n",
              "254           2   29                20                4         0   \n",
              "1175          3   39                12                2         0   \n",
              "1341          3   31                20                3         0   \n",
              "\n",
              "      StockOptionLevel  WorkLifeBalance  YearsAtCompany  \\\n",
              "1097                 3                3               1   \n",
              "727                  0                3               0   \n",
              "254                  1                3               3   \n",
              "1175                 0                3               5   \n",
              "1341                 1                3              10   \n",
              "\n",
              "      YearsSinceLastPromotion  NumCompaniesWorked  \n",
              "1097                        0                   0  \n",
              "727                         0                   1  \n",
              "254                         0                   2  \n",
              "1175                        1                   4  \n",
              "1341                        0                   1  "
            ]
          },
          "execution_count": 10,
          "metadata": {},
          "output_type": "execute_result"
        }
      ],
      "source": [
        "from sklearn.preprocessing import LabelEncoder\n",
        "\n",
        "# Initialize LabelEncoder\n",
        "label_encoder = LabelEncoder()\n",
        "\n",
        "# Apply LabelEncoder to the 'OverTime' column in both the training and testing sets\n",
        "X_train['OverTime'] = label_encoder.fit_transform(X_train['OverTime'])\n",
        "X_test['OverTime'] = label_encoder.transform(X_test['OverTime'])\n",
        "\n",
        "# Display the first few rows of the transformed X_train\n",
        "X_train.head()"
      ]
    },
    {
      "cell_type": "code",
      "execution_count": 11,
      "metadata": {},
      "outputs": [
        {
          "data": {
            "text/plain": [
              "array([[-0.86335572, -1.38855944,  1.44039645, ..., -0.97426331,\n",
              "        -0.67610953, -1.05916816],\n",
              "       [-0.86335572, -2.04073779, -0.52269928, ..., -1.13857331,\n",
              "        -0.67610953, -0.65943075],\n",
              "       [-0.86335572, -0.84507748,  1.31770296, ..., -0.6456433 ,\n",
              "        -0.67610953, -0.25969335],\n",
              "       ...,\n",
              "       [ 1.06322176, -1.60595222, -0.76808624, ..., -1.13857331,\n",
              "        -0.67610953, -1.05916816],\n",
              "       [-0.86335572, -0.84507748,  0.45884859, ..., -0.4813333 ,\n",
              "        -0.67610953,  0.53978146],\n",
              "       [ 0.09993302,  1.43754676, -0.03192534, ..., -0.97426331,\n",
              "        -0.67610953,  0.53978146]])"
            ]
          },
          "execution_count": 11,
          "metadata": {},
          "output_type": "execute_result"
        }
      ],
      "source": [
        "# Initialize the StandardScaler\n",
        "scaler = StandardScaler()\n",
        "\n",
        "# Fit the scaler on the training data and transform both the training and testing sets\n",
        "X_train_scaled = scaler.fit_transform(X_train)\n",
        "X_test_scaled = scaler.transform(X_test)\n",
        "\n",
        "# Display the first few rows of the scaled training data\n",
        "X_train_scaled"
      ]
    },
    {
      "cell_type": "code",
      "execution_count": 12,
      "metadata": {},
      "outputs": [
        {
          "name": "stderr",
          "output_type": "stream",
          "text": [
            "c:\\Users\\gisi_\\anaconda3\\Lib\\site-packages\\sklearn\\preprocessing\\_encoders.py:868: FutureWarning: `sparse` was renamed to `sparse_output` in version 1.2 and will be removed in 1.4. `sparse_output` is ignored unless you leave `sparse` to its default value.\n",
            "  warnings.warn(\n"
          ]
        },
        {
          "data": {
            "text/plain": [
              "array([[0., 1., 0.],\n",
              "       [0., 1., 0.],\n",
              "       [0., 0., 1.],\n",
              "       ...,\n",
              "       [0., 1., 0.],\n",
              "       [0., 1., 0.],\n",
              "       [0., 0., 1.]])"
            ]
          },
          "execution_count": 12,
          "metadata": {},
          "output_type": "execute_result"
        }
      ],
      "source": [
        "# Create a OneHotEncoder for the Department column\n",
        "# Fit the encoder to the training data\n",
        "# Create two new variables by applying the encoder\n",
        "# to the training and testing data\n",
        "\n",
        "from sklearn.preprocessing import OneHotEncoder\n",
        "\n",
        "# Initialize the OneHotEncoder\n",
        "department_encoder = OneHotEncoder(sparse=False)\n",
        "\n",
        "# Fit the encoder on the 'Department' column in the training set\n",
        "department_encoder.fit(np.array(y_department_train).reshape(-1, 1))\n",
        "\n",
        "# Transform the 'Department' column in the testing set\n",
        "department_encoded_train = department_encoder.transform(np.array(y_department_train).reshape(-1, 1))\n",
        "department_encoded_test = department_encoder.transform(np.array(y_department_test).reshape(-1, 1))\n",
        "\n",
        "# Display the first few rows of the transformed training data\n",
        "department_encoded_train"
      ]
    },
    {
      "cell_type": "code",
      "execution_count": 13,
      "metadata": {},
      "outputs": [
        {
          "data": {
            "text/plain": [
              "array([[1., 0.],\n",
              "       [1., 0.],\n",
              "       [1., 0.],\n",
              "       ...,\n",
              "       [0., 1.],\n",
              "       [1., 0.],\n",
              "       [1., 0.]])"
            ]
          },
          "execution_count": 13,
          "metadata": {},
          "output_type": "execute_result"
        }
      ],
      "source": [
        "# Create a OneHotEncoder for the Attrition column\n",
        "attrition_encoder = OneHotEncoder(sparse_output=False, handle_unknown='ignore', drop=None)\n",
        "# Fit the encoder to the training data\n",
        "attrition_encoder.fit(np.array(y_attrition_train).reshape(-1, 1))\n",
        "# Create two new variables by applying the encoder\n",
        "# to the training and testing data\n",
        "attrition_encoded_train = attrition_encoder.transform(np.array(y_attrition_train).reshape(-1, 1))\n",
        "attrition_encoded_test = attrition_encoder.transform(np.array(y_attrition_test).reshape(-1, 1))\n",
        "attrition_encoded_train"
      ]
    },
    {
      "cell_type": "markdown",
      "metadata": {
        "id": "ykNmu_WWGc3T"
      },
      "source": [
        "## Create, Compile, and Train the Model"
      ]
    },
    {
      "cell_type": "code",
      "execution_count": 14,
      "metadata": {},
      "outputs": [],
      "source": [
        "# # Find the number of columns in the X training data\n",
        "# # Create the input layer\n",
        "input_shape = (X_train_scaled.shape[1],)\n",
        "\n",
        "# Step 1: Create the input layer using a tuple for the input shape\n",
        "input_layer = layers.Input(shape=input_shape)"
      ]
    },
    {
      "cell_type": "code",
      "execution_count": 15,
      "metadata": {},
      "outputs": [],
      "source": [
        "# Create at least two shared layers\n",
        "shared_layer1 = layers.Dense(64, activation='relu', name ='shared1')(input_layer)\n",
        "shared_layer2 = layers.Dense(128, activation='relu', name ='shared2')(shared_layer1)"
      ]
    },
    {
      "cell_type": "code",
      "execution_count": 16,
      "metadata": {
        "id": "JukjTm2yTEqd"
      },
      "outputs": [],
      "source": [
        "# Create a branch for Department\n",
        "# with a hidden layer and an output layer\n",
        "# Create the hidden layer\n",
        "# Create the output layer\n",
        "\n",
        "department_hidden = layers.Dense(32, activation='relu', name ='department_hidden')(shared_layer2)\n",
        "department_output = layers.Dense(department_encoded_train.shape[1], activation='softmax', name ='department_output')(department_hidden)"
      ]
    },
    {
      "cell_type": "code",
      "execution_count": 17,
      "metadata": {
        "id": "9OqhUiOJUBkR"
      },
      "outputs": [],
      "source": [
        "# Create a branch for Attrition\n",
        "# with a hidden layer and an output layer\n",
        "# Create the hidden layer\n",
        "# Create the output layer\n",
        "attrition_hidden = layers.Dense(32, activation='relu', name ='attrition_hidden')(shared_layer2)\n",
        "attrition_output = layers.Dense(attrition_encoded_train.shape[1], activation='sigmoid', name ='attrition_output')(attrition_hidden)"
      ]
    },
    {
      "cell_type": "code",
      "execution_count": 18,
      "metadata": {
        "colab": {
          "base_uri": "https://localhost:8080/"
        },
        "id": "twmuejdxGc3T",
        "outputId": "25096308-b68b-42e4-e4ea-ae82e97c435a"
      },
      "outputs": [
        {
          "data": {
            "text/html": [
              "<pre style=\"white-space:pre;overflow-x:auto;line-height:normal;font-family:Menlo,'DejaVu Sans Mono',consolas,'Courier New',monospace\"><span style=\"font-weight: bold\">Model: \"functional\"</span>\n",
              "</pre>\n"
            ],
            "text/plain": [
              "\u001b[1mModel: \"functional\"\u001b[0m\n"
            ]
          },
          "metadata": {},
          "output_type": "display_data"
        },
        {
          "data": {
            "text/html": [
              "<pre style=\"white-space:pre;overflow-x:auto;line-height:normal;font-family:Menlo,'DejaVu Sans Mono',consolas,'Courier New',monospace\">┏━━━━━━━━━━━━━━━━━━━━━┳━━━━━━━━━━━━━━━━━━━┳━━━━━━━━━━━━┳━━━━━━━━━━━━━━━━━━━┓\n",
              "┃<span style=\"font-weight: bold\"> Layer (type)        </span>┃<span style=\"font-weight: bold\"> Output Shape      </span>┃<span style=\"font-weight: bold\">    Param # </span>┃<span style=\"font-weight: bold\"> Connected to      </span>┃\n",
              "┡━━━━━━━━━━━━━━━━━━━━━╇━━━━━━━━━━━━━━━━━━━╇━━━━━━━━━━━━╇━━━━━━━━━━━━━━━━━━━┩\n",
              "│ input_layer         │ (<span style=\"color: #00d7ff; text-decoration-color: #00d7ff\">None</span>, <span style=\"color: #00af00; text-decoration-color: #00af00\">10</span>)        │          <span style=\"color: #00af00; text-decoration-color: #00af00\">0</span> │ -                 │\n",
              "│ (<span style=\"color: #0087ff; text-decoration-color: #0087ff\">InputLayer</span>)        │                   │            │                   │\n",
              "├─────────────────────┼───────────────────┼────────────┼───────────────────┤\n",
              "│ shared1 (<span style=\"color: #0087ff; text-decoration-color: #0087ff\">Dense</span>)     │ (<span style=\"color: #00d7ff; text-decoration-color: #00d7ff\">None</span>, <span style=\"color: #00af00; text-decoration-color: #00af00\">64</span>)        │        <span style=\"color: #00af00; text-decoration-color: #00af00\">704</span> │ input_layer[<span style=\"color: #00af00; text-decoration-color: #00af00\">0</span>][<span style=\"color: #00af00; text-decoration-color: #00af00\">0</span>] │\n",
              "├─────────────────────┼───────────────────┼────────────┼───────────────────┤\n",
              "│ shared2 (<span style=\"color: #0087ff; text-decoration-color: #0087ff\">Dense</span>)     │ (<span style=\"color: #00d7ff; text-decoration-color: #00d7ff\">None</span>, <span style=\"color: #00af00; text-decoration-color: #00af00\">128</span>)       │      <span style=\"color: #00af00; text-decoration-color: #00af00\">8,320</span> │ shared1[<span style=\"color: #00af00; text-decoration-color: #00af00\">0</span>][<span style=\"color: #00af00; text-decoration-color: #00af00\">0</span>]     │\n",
              "├─────────────────────┼───────────────────┼────────────┼───────────────────┤\n",
              "│ attrition_hidden    │ (<span style=\"color: #00d7ff; text-decoration-color: #00d7ff\">None</span>, <span style=\"color: #00af00; text-decoration-color: #00af00\">32</span>)        │      <span style=\"color: #00af00; text-decoration-color: #00af00\">4,128</span> │ shared2[<span style=\"color: #00af00; text-decoration-color: #00af00\">0</span>][<span style=\"color: #00af00; text-decoration-color: #00af00\">0</span>]     │\n",
              "│ (<span style=\"color: #0087ff; text-decoration-color: #0087ff\">Dense</span>)             │                   │            │                   │\n",
              "├─────────────────────┼───────────────────┼────────────┼───────────────────┤\n",
              "│ department_hidden   │ (<span style=\"color: #00d7ff; text-decoration-color: #00d7ff\">None</span>, <span style=\"color: #00af00; text-decoration-color: #00af00\">32</span>)        │      <span style=\"color: #00af00; text-decoration-color: #00af00\">4,128</span> │ shared2[<span style=\"color: #00af00; text-decoration-color: #00af00\">0</span>][<span style=\"color: #00af00; text-decoration-color: #00af00\">0</span>]     │\n",
              "│ (<span style=\"color: #0087ff; text-decoration-color: #0087ff\">Dense</span>)             │                   │            │                   │\n",
              "├─────────────────────┼───────────────────┼────────────┼───────────────────┤\n",
              "│ attrition_output    │ (<span style=\"color: #00d7ff; text-decoration-color: #00d7ff\">None</span>, <span style=\"color: #00af00; text-decoration-color: #00af00\">2</span>)         │         <span style=\"color: #00af00; text-decoration-color: #00af00\">66</span> │ attrition_hidden… │\n",
              "│ (<span style=\"color: #0087ff; text-decoration-color: #0087ff\">Dense</span>)             │                   │            │                   │\n",
              "├─────────────────────┼───────────────────┼────────────┼───────────────────┤\n",
              "│ department_output   │ (<span style=\"color: #00d7ff; text-decoration-color: #00d7ff\">None</span>, <span style=\"color: #00af00; text-decoration-color: #00af00\">3</span>)         │         <span style=\"color: #00af00; text-decoration-color: #00af00\">99</span> │ department_hidde… │\n",
              "│ (<span style=\"color: #0087ff; text-decoration-color: #0087ff\">Dense</span>)             │                   │            │                   │\n",
              "└─────────────────────┴───────────────────┴────────────┴───────────────────┘\n",
              "</pre>\n"
            ],
            "text/plain": [
              "┏━━━━━━━━━━━━━━━━━━━━━┳━━━━━━━━━━━━━━━━━━━┳━━━━━━━━━━━━┳━━━━━━━━━━━━━━━━━━━┓\n",
              "┃\u001b[1m \u001b[0m\u001b[1mLayer (type)       \u001b[0m\u001b[1m \u001b[0m┃\u001b[1m \u001b[0m\u001b[1mOutput Shape     \u001b[0m\u001b[1m \u001b[0m┃\u001b[1m \u001b[0m\u001b[1m   Param #\u001b[0m\u001b[1m \u001b[0m┃\u001b[1m \u001b[0m\u001b[1mConnected to     \u001b[0m\u001b[1m \u001b[0m┃\n",
              "┡━━━━━━━━━━━━━━━━━━━━━╇━━━━━━━━━━━━━━━━━━━╇━━━━━━━━━━━━╇━━━━━━━━━━━━━━━━━━━┩\n",
              "│ input_layer         │ (\u001b[38;5;45mNone\u001b[0m, \u001b[38;5;34m10\u001b[0m)        │          \u001b[38;5;34m0\u001b[0m │ -                 │\n",
              "│ (\u001b[38;5;33mInputLayer\u001b[0m)        │                   │            │                   │\n",
              "├─────────────────────┼───────────────────┼────────────┼───────────────────┤\n",
              "│ shared1 (\u001b[38;5;33mDense\u001b[0m)     │ (\u001b[38;5;45mNone\u001b[0m, \u001b[38;5;34m64\u001b[0m)        │        \u001b[38;5;34m704\u001b[0m │ input_layer[\u001b[38;5;34m0\u001b[0m][\u001b[38;5;34m0\u001b[0m] │\n",
              "├─────────────────────┼───────────────────┼────────────┼───────────────────┤\n",
              "│ shared2 (\u001b[38;5;33mDense\u001b[0m)     │ (\u001b[38;5;45mNone\u001b[0m, \u001b[38;5;34m128\u001b[0m)       │      \u001b[38;5;34m8,320\u001b[0m │ shared1[\u001b[38;5;34m0\u001b[0m][\u001b[38;5;34m0\u001b[0m]     │\n",
              "├─────────────────────┼───────────────────┼────────────┼───────────────────┤\n",
              "│ attrition_hidden    │ (\u001b[38;5;45mNone\u001b[0m, \u001b[38;5;34m32\u001b[0m)        │      \u001b[38;5;34m4,128\u001b[0m │ shared2[\u001b[38;5;34m0\u001b[0m][\u001b[38;5;34m0\u001b[0m]     │\n",
              "│ (\u001b[38;5;33mDense\u001b[0m)             │                   │            │                   │\n",
              "├─────────────────────┼───────────────────┼────────────┼───────────────────┤\n",
              "│ department_hidden   │ (\u001b[38;5;45mNone\u001b[0m, \u001b[38;5;34m32\u001b[0m)        │      \u001b[38;5;34m4,128\u001b[0m │ shared2[\u001b[38;5;34m0\u001b[0m][\u001b[38;5;34m0\u001b[0m]     │\n",
              "│ (\u001b[38;5;33mDense\u001b[0m)             │                   │            │                   │\n",
              "├─────────────────────┼───────────────────┼────────────┼───────────────────┤\n",
              "│ attrition_output    │ (\u001b[38;5;45mNone\u001b[0m, \u001b[38;5;34m2\u001b[0m)         │         \u001b[38;5;34m66\u001b[0m │ attrition_hidden… │\n",
              "│ (\u001b[38;5;33mDense\u001b[0m)             │                   │            │                   │\n",
              "├─────────────────────┼───────────────────┼────────────┼───────────────────┤\n",
              "│ department_output   │ (\u001b[38;5;45mNone\u001b[0m, \u001b[38;5;34m3\u001b[0m)         │         \u001b[38;5;34m99\u001b[0m │ department_hidde… │\n",
              "│ (\u001b[38;5;33mDense\u001b[0m)             │                   │            │                   │\n",
              "└─────────────────────┴───────────────────┴────────────┴───────────────────┘\n"
            ]
          },
          "metadata": {},
          "output_type": "display_data"
        },
        {
          "data": {
            "text/html": [
              "<pre style=\"white-space:pre;overflow-x:auto;line-height:normal;font-family:Menlo,'DejaVu Sans Mono',consolas,'Courier New',monospace\"><span style=\"font-weight: bold\"> Total params: </span><span style=\"color: #00af00; text-decoration-color: #00af00\">17,445</span> (68.14 KB)\n",
              "</pre>\n"
            ],
            "text/plain": [
              "\u001b[1m Total params: \u001b[0m\u001b[38;5;34m17,445\u001b[0m (68.14 KB)\n"
            ]
          },
          "metadata": {},
          "output_type": "display_data"
        },
        {
          "data": {
            "text/html": [
              "<pre style=\"white-space:pre;overflow-x:auto;line-height:normal;font-family:Menlo,'DejaVu Sans Mono',consolas,'Courier New',monospace\"><span style=\"font-weight: bold\"> Trainable params: </span><span style=\"color: #00af00; text-decoration-color: #00af00\">17,445</span> (68.14 KB)\n",
              "</pre>\n"
            ],
            "text/plain": [
              "\u001b[1m Trainable params: \u001b[0m\u001b[38;5;34m17,445\u001b[0m (68.14 KB)\n"
            ]
          },
          "metadata": {},
          "output_type": "display_data"
        },
        {
          "data": {
            "text/html": [
              "<pre style=\"white-space:pre;overflow-x:auto;line-height:normal;font-family:Menlo,'DejaVu Sans Mono',consolas,'Courier New',monospace\"><span style=\"font-weight: bold\"> Non-trainable params: </span><span style=\"color: #00af00; text-decoration-color: #00af00\">0</span> (0.00 B)\n",
              "</pre>\n"
            ],
            "text/plain": [
              "\u001b[1m Non-trainable params: \u001b[0m\u001b[38;5;34m0\u001b[0m (0.00 B)\n"
            ]
          },
          "metadata": {},
          "output_type": "display_data"
        }
      ],
      "source": [
        "# Create the model\n",
        "model = Model(inputs=input_layer, \n",
        "              outputs={'department_output': department_output, 'attrition_output': attrition_output})\n",
        "\n",
        "# Compile the model\n",
        "model.compile(optimizer='adam', \n",
        "loss={'department_output': 'categorical_crossentropy', 'attrition_output': 'binary_crossentropy'},\n",
        "metrics={'department_output': 'accuracy', 'attrition_output':'accuracy'})\n",
        "\n",
        "# Summarize the model\n",
        "model.summary()"
      ]
    },
    {
      "cell_type": "code",
      "execution_count": 19,
      "metadata": {
        "colab": {
          "base_uri": "https://localhost:8080/"
        },
        "id": "c8oGy0dpGc3U",
        "outputId": "cc667d43-28cf-42d4-d719-c2bc02888d30"
      },
      "outputs": [
        {
          "name": "stdout",
          "output_type": "stream",
          "text": [
            "Epoch 1/100\n",
            "\u001b[1m30/30\u001b[0m \u001b[32m━━━━━━━━━━━━━━━━━━━━\u001b[0m\u001b[37m\u001b[0m \u001b[1m2s\u001b[0m 11ms/step - attrition_output_accuracy: 0.8282 - attrition_output_loss: 0.5708 - department_output_accuracy: 0.5962 - department_output_loss: 0.9208 - loss: 1.4908 - val_attrition_output_accuracy: 0.7966 - val_attrition_output_loss: 0.5118 - val_department_output_accuracy: 0.6314 - val_department_output_loss: 0.7879 - val_loss: 1.3295\n",
            "Epoch 2/100\n",
            "\u001b[1m30/30\u001b[0m \u001b[32m━━━━━━━━━━━━━━━━━━━━\u001b[0m\u001b[37m\u001b[0m \u001b[1m0s\u001b[0m 3ms/step - attrition_output_accuracy: 0.8436 - attrition_output_loss: 0.4326 - department_output_accuracy: 0.6496 - department_output_loss: 0.7720 - loss: 1.2051 - val_attrition_output_accuracy: 0.7966 - val_attrition_output_loss: 0.4552 - val_department_output_accuracy: 0.6314 - val_department_output_loss: 0.7804 - val_loss: 1.2675\n",
            "Epoch 3/100\n",
            "\u001b[1m30/30\u001b[0m \u001b[32m━━━━━━━━━━━━━━━━━━━━\u001b[0m\u001b[37m\u001b[0m \u001b[1m0s\u001b[0m 3ms/step - attrition_output_accuracy: 0.8521 - attrition_output_loss: 0.3970 - department_output_accuracy: 0.6437 - department_output_loss: 0.7460 - loss: 1.1430 - val_attrition_output_accuracy: 0.8051 - val_attrition_output_loss: 0.4366 - val_department_output_accuracy: 0.6314 - val_department_output_loss: 0.7755 - val_loss: 1.2438\n",
            "Epoch 4/100\n",
            "\u001b[1m30/30\u001b[0m \u001b[32m━━━━━━━━━━━━━━━━━━━━\u001b[0m\u001b[37m\u001b[0m \u001b[1m0s\u001b[0m 3ms/step - attrition_output_accuracy: 0.8388 - attrition_output_loss: 0.3913 - department_output_accuracy: 0.6473 - department_output_loss: 0.7466 - loss: 1.1373 - val_attrition_output_accuracy: 0.8178 - val_attrition_output_loss: 0.4321 - val_department_output_accuracy: 0.6314 - val_department_output_loss: 0.7829 - val_loss: 1.2493\n",
            "Epoch 5/100\n",
            "\u001b[1m30/30\u001b[0m \u001b[32m━━━━━━━━━━━━━━━━━━━━\u001b[0m\u001b[37m\u001b[0m \u001b[1m0s\u001b[0m 2ms/step - attrition_output_accuracy: 0.8626 - attrition_output_loss: 0.3568 - department_output_accuracy: 0.6560 - department_output_loss: 0.7394 - loss: 1.0964 - val_attrition_output_accuracy: 0.8305 - val_attrition_output_loss: 0.4165 - val_department_output_accuracy: 0.6314 - val_department_output_loss: 0.7769 - val_loss: 1.2251\n",
            "Epoch 6/100\n",
            "\u001b[1m30/30\u001b[0m \u001b[32m━━━━━━━━━━━━━━━━━━━━\u001b[0m\u001b[37m\u001b[0m \u001b[1m0s\u001b[0m 2ms/step - attrition_output_accuracy: 0.8672 - attrition_output_loss: 0.3493 - department_output_accuracy: 0.6628 - department_output_loss: 0.7347 - loss: 1.0839 - val_attrition_output_accuracy: 0.8263 - val_attrition_output_loss: 0.4297 - val_department_output_accuracy: 0.6271 - val_department_output_loss: 0.7853 - val_loss: 1.2471\n",
            "Epoch 7/100\n",
            "\u001b[1m30/30\u001b[0m \u001b[32m━━━━━━━━━━━━━━━━━━━━\u001b[0m\u001b[37m\u001b[0m \u001b[1m0s\u001b[0m 2ms/step - attrition_output_accuracy: 0.8643 - attrition_output_loss: 0.3364 - department_output_accuracy: 0.6691 - department_output_loss: 0.7041 - loss: 1.0406 - val_attrition_output_accuracy: 0.8347 - val_attrition_output_loss: 0.4170 - val_department_output_accuracy: 0.6314 - val_department_output_loss: 0.7858 - val_loss: 1.2348\n",
            "Epoch 8/100\n",
            "\u001b[1m30/30\u001b[0m \u001b[32m━━━━━━━━━━━━━━━━━━━━\u001b[0m\u001b[37m\u001b[0m \u001b[1m0s\u001b[0m 3ms/step - attrition_output_accuracy: 0.8769 - attrition_output_loss: 0.2961 - department_output_accuracy: 0.6811 - department_output_loss: 0.6976 - loss: 0.9939 - val_attrition_output_accuracy: 0.8475 - val_attrition_output_loss: 0.4106 - val_department_output_accuracy: 0.6356 - val_department_output_loss: 0.7886 - val_loss: 1.2328\n",
            "Epoch 9/100\n",
            "\u001b[1m30/30\u001b[0m \u001b[32m━━━━━━━━━━━━━━━━━━━━\u001b[0m\u001b[37m\u001b[0m \u001b[1m0s\u001b[0m 2ms/step - attrition_output_accuracy: 0.8707 - attrition_output_loss: 0.3259 - department_output_accuracy: 0.6920 - department_output_loss: 0.6832 - loss: 1.0087 - val_attrition_output_accuracy: 0.8432 - val_attrition_output_loss: 0.4049 - val_department_output_accuracy: 0.6144 - val_department_output_loss: 0.7972 - val_loss: 1.2306\n",
            "Epoch 10/100\n",
            "\u001b[1m30/30\u001b[0m \u001b[32m━━━━━━━━━━━━━━━━━━━━\u001b[0m\u001b[37m\u001b[0m \u001b[1m0s\u001b[0m 2ms/step - attrition_output_accuracy: 0.8792 - attrition_output_loss: 0.3052 - department_output_accuracy: 0.7039 - department_output_loss: 0.6860 - loss: 0.9913 - val_attrition_output_accuracy: 0.8432 - val_attrition_output_loss: 0.4101 - val_department_output_accuracy: 0.6144 - val_department_output_loss: 0.7959 - val_loss: 1.2366\n",
            "Epoch 11/100\n",
            "\u001b[1m30/30\u001b[0m \u001b[32m━━━━━━━━━━━━━━━━━━━━\u001b[0m\u001b[37m\u001b[0m \u001b[1m0s\u001b[0m 2ms/step - attrition_output_accuracy: 0.8961 - attrition_output_loss: 0.2911 - department_output_accuracy: 0.6788 - department_output_loss: 0.6666 - loss: 0.9581 - val_attrition_output_accuracy: 0.8390 - val_attrition_output_loss: 0.4044 - val_department_output_accuracy: 0.5975 - val_department_output_loss: 0.7996 - val_loss: 1.2333\n",
            "Epoch 12/100\n",
            "\u001b[1m30/30\u001b[0m \u001b[32m━━━━━━━━━━━━━━━━━━━━\u001b[0m\u001b[37m\u001b[0m \u001b[1m0s\u001b[0m 2ms/step - attrition_output_accuracy: 0.9098 - attrition_output_loss: 0.2739 - department_output_accuracy: 0.6865 - department_output_loss: 0.6781 - loss: 0.9524 - val_attrition_output_accuracy: 0.8517 - val_attrition_output_loss: 0.4031 - val_department_output_accuracy: 0.5720 - val_department_output_loss: 0.8100 - val_loss: 1.2416\n",
            "Epoch 13/100\n",
            "\u001b[1m30/30\u001b[0m \u001b[32m━━━━━━━━━━━━━━━━━━━━\u001b[0m\u001b[37m\u001b[0m \u001b[1m0s\u001b[0m 2ms/step - attrition_output_accuracy: 0.8908 - attrition_output_loss: 0.2893 - department_output_accuracy: 0.7224 - department_output_loss: 0.6806 - loss: 0.9695 - val_attrition_output_accuracy: 0.8390 - val_attrition_output_loss: 0.4087 - val_department_output_accuracy: 0.6229 - val_department_output_loss: 0.8214 - val_loss: 1.2645\n",
            "Epoch 14/100\n",
            "\u001b[1m30/30\u001b[0m \u001b[32m━━━━━━━━━━━━━━━━━━━━\u001b[0m\u001b[37m\u001b[0m \u001b[1m0s\u001b[0m 2ms/step - attrition_output_accuracy: 0.8868 - attrition_output_loss: 0.3071 - department_output_accuracy: 0.6963 - department_output_loss: 0.6569 - loss: 0.9639 - val_attrition_output_accuracy: 0.8475 - val_attrition_output_loss: 0.4241 - val_department_output_accuracy: 0.6144 - val_department_output_loss: 0.8265 - val_loss: 1.2850\n",
            "Epoch 15/100\n",
            "\u001b[1m30/30\u001b[0m \u001b[32m━━━━━━━━━━━━━━━━━━━━\u001b[0m\u001b[37m\u001b[0m \u001b[1m0s\u001b[0m 2ms/step - attrition_output_accuracy: 0.9026 - attrition_output_loss: 0.2709 - department_output_accuracy: 0.7034 - department_output_loss: 0.6585 - loss: 0.9290 - val_attrition_output_accuracy: 0.8390 - val_attrition_output_loss: 0.4099 - val_department_output_accuracy: 0.6186 - val_department_output_loss: 0.8330 - val_loss: 1.2769\n",
            "Epoch 16/100\n",
            "\u001b[1m30/30\u001b[0m \u001b[32m━━━━━━━━━━━━━━━━━━━━\u001b[0m\u001b[37m\u001b[0m \u001b[1m0s\u001b[0m 2ms/step - attrition_output_accuracy: 0.8948 - attrition_output_loss: 0.2750 - department_output_accuracy: 0.7251 - department_output_loss: 0.6257 - loss: 0.9005 - val_attrition_output_accuracy: 0.8347 - val_attrition_output_loss: 0.4152 - val_department_output_accuracy: 0.6102 - val_department_output_loss: 0.8383 - val_loss: 1.2849\n",
            "Epoch 17/100\n",
            "\u001b[1m30/30\u001b[0m \u001b[32m━━━━━━━━━━━━━━━━━━━━\u001b[0m\u001b[37m\u001b[0m \u001b[1m0s\u001b[0m 2ms/step - attrition_output_accuracy: 0.9014 - attrition_output_loss: 0.2765 - department_output_accuracy: 0.7324 - department_output_loss: 0.6202 - loss: 0.8965 - val_attrition_output_accuracy: 0.8390 - val_attrition_output_loss: 0.4169 - val_department_output_accuracy: 0.5720 - val_department_output_loss: 0.8492 - val_loss: 1.3004\n",
            "Epoch 18/100\n",
            "\u001b[1m30/30\u001b[0m \u001b[32m━━━━━━━━━━━━━━━━━━━━\u001b[0m\u001b[37m\u001b[0m \u001b[1m0s\u001b[0m 2ms/step - attrition_output_accuracy: 0.9056 - attrition_output_loss: 0.2526 - department_output_accuracy: 0.7277 - department_output_loss: 0.6223 - loss: 0.8748 - val_attrition_output_accuracy: 0.8347 - val_attrition_output_loss: 0.4218 - val_department_output_accuracy: 0.5636 - val_department_output_loss: 0.8590 - val_loss: 1.3143\n",
            "Epoch 19/100\n",
            "\u001b[1m30/30\u001b[0m \u001b[32m━━━━━━━━━━━━━━━━━━━━\u001b[0m\u001b[37m\u001b[0m \u001b[1m0s\u001b[0m 3ms/step - attrition_output_accuracy: 0.8888 - attrition_output_loss: 0.2765 - department_output_accuracy: 0.7573 - department_output_loss: 0.5764 - loss: 0.8528 - val_attrition_output_accuracy: 0.8432 - val_attrition_output_loss: 0.4382 - val_department_output_accuracy: 0.5508 - val_department_output_loss: 0.8608 - val_loss: 1.3365\n",
            "Epoch 20/100\n",
            "\u001b[1m30/30\u001b[0m \u001b[32m━━━━━━━━━━━━━━━━━━━━\u001b[0m\u001b[37m\u001b[0m \u001b[1m0s\u001b[0m 3ms/step - attrition_output_accuracy: 0.8817 - attrition_output_loss: 0.2848 - department_output_accuracy: 0.7640 - department_output_loss: 0.5931 - loss: 0.8779 - val_attrition_output_accuracy: 0.8390 - val_attrition_output_loss: 0.4295 - val_department_output_accuracy: 0.5636 - val_department_output_loss: 0.8778 - val_loss: 1.3481\n",
            "Epoch 21/100\n",
            "\u001b[1m30/30\u001b[0m \u001b[32m━━━━━━━━━━━━━━━━━━━━\u001b[0m\u001b[37m\u001b[0m \u001b[1m0s\u001b[0m 3ms/step - attrition_output_accuracy: 0.9126 - attrition_output_loss: 0.2360 - department_output_accuracy: 0.7482 - department_output_loss: 0.5755 - loss: 0.8115 - val_attrition_output_accuracy: 0.8347 - val_attrition_output_loss: 0.4250 - val_department_output_accuracy: 0.6017 - val_department_output_loss: 0.9236 - val_loss: 1.3836\n",
            "Epoch 22/100\n",
            "\u001b[1m30/30\u001b[0m \u001b[32m━━━━━━━━━━━━━━━━━━━━\u001b[0m\u001b[37m\u001b[0m \u001b[1m0s\u001b[0m 2ms/step - attrition_output_accuracy: 0.8979 - attrition_output_loss: 0.2573 - department_output_accuracy: 0.7500 - department_output_loss: 0.5410 - loss: 0.7982 - val_attrition_output_accuracy: 0.8390 - val_attrition_output_loss: 0.4248 - val_department_output_accuracy: 0.5805 - val_department_output_loss: 0.9095 - val_loss: 1.3716\n",
            "Epoch 23/100\n",
            "\u001b[1m30/30\u001b[0m \u001b[32m━━━━━━━━━━━━━━━━━━━━\u001b[0m\u001b[37m\u001b[0m \u001b[1m0s\u001b[0m 2ms/step - attrition_output_accuracy: 0.9164 - attrition_output_loss: 0.2339 - department_output_accuracy: 0.7959 - department_output_loss: 0.5017 - loss: 0.7354 - val_attrition_output_accuracy: 0.8347 - val_attrition_output_loss: 0.4516 - val_department_output_accuracy: 0.5508 - val_department_output_loss: 0.8954 - val_loss: 1.3885\n",
            "Epoch 24/100\n",
            "\u001b[1m30/30\u001b[0m \u001b[32m━━━━━━━━━━━━━━━━━━━━\u001b[0m\u001b[37m\u001b[0m \u001b[1m0s\u001b[0m 2ms/step - attrition_output_accuracy: 0.9072 - attrition_output_loss: 0.2463 - department_output_accuracy: 0.7903 - department_output_loss: 0.5490 - loss: 0.7954 - val_attrition_output_accuracy: 0.8305 - val_attrition_output_loss: 0.4370 - val_department_output_accuracy: 0.5254 - val_department_output_loss: 0.9174 - val_loss: 1.3959\n",
            "Epoch 25/100\n",
            "\u001b[1m30/30\u001b[0m \u001b[32m━━━━━━━━━━━━━━━━━━━━\u001b[0m\u001b[37m\u001b[0m \u001b[1m0s\u001b[0m 2ms/step - attrition_output_accuracy: 0.9212 - attrition_output_loss: 0.2148 - department_output_accuracy: 0.8035 - department_output_loss: 0.4968 - loss: 0.7114 - val_attrition_output_accuracy: 0.8390 - val_attrition_output_loss: 0.4469 - val_department_output_accuracy: 0.5636 - val_department_output_loss: 0.9371 - val_loss: 1.4252\n",
            "Epoch 26/100\n",
            "\u001b[1m30/30\u001b[0m \u001b[32m━━━━━━━━━━━━━━━━━━━━\u001b[0m\u001b[37m\u001b[0m \u001b[1m0s\u001b[0m 2ms/step - attrition_output_accuracy: 0.9222 - attrition_output_loss: 0.2281 - department_output_accuracy: 0.7868 - department_output_loss: 0.5064 - loss: 0.7345 - val_attrition_output_accuracy: 0.8347 - val_attrition_output_loss: 0.4509 - val_department_output_accuracy: 0.5466 - val_department_output_loss: 0.9598 - val_loss: 1.4496\n",
            "Epoch 27/100\n",
            "\u001b[1m30/30\u001b[0m \u001b[32m━━━━━━━━━━━━━━━━━━━━\u001b[0m\u001b[37m\u001b[0m \u001b[1m0s\u001b[0m 2ms/step - attrition_output_accuracy: 0.9262 - attrition_output_loss: 0.2116 - department_output_accuracy: 0.8146 - department_output_loss: 0.4749 - loss: 0.6861 - val_attrition_output_accuracy: 0.8305 - val_attrition_output_loss: 0.4511 - val_department_output_accuracy: 0.5466 - val_department_output_loss: 0.9855 - val_loss: 1.4819\n",
            "Epoch 28/100\n",
            "\u001b[1m30/30\u001b[0m \u001b[32m━━━━━━━━━━━━━━━━━━━━\u001b[0m\u001b[37m\u001b[0m \u001b[1m0s\u001b[0m 2ms/step - attrition_output_accuracy: 0.9133 - attrition_output_loss: 0.2153 - department_output_accuracy: 0.7944 - department_output_loss: 0.4870 - loss: 0.7022 - val_attrition_output_accuracy: 0.8475 - val_attrition_output_loss: 0.4612 - val_department_output_accuracy: 0.5339 - val_department_output_loss: 0.9495 - val_loss: 1.4570\n",
            "Epoch 29/100\n",
            "\u001b[1m30/30\u001b[0m \u001b[32m━━━━━━━━━━━━━━━━━━━━\u001b[0m\u001b[37m\u001b[0m \u001b[1m0s\u001b[0m 2ms/step - attrition_output_accuracy: 0.9306 - attrition_output_loss: 0.2043 - department_output_accuracy: 0.8465 - department_output_loss: 0.4616 - loss: 0.6658 - val_attrition_output_accuracy: 0.8517 - val_attrition_output_loss: 0.4806 - val_department_output_accuracy: 0.5297 - val_department_output_loss: 0.9847 - val_loss: 1.5103\n",
            "Epoch 30/100\n",
            "\u001b[1m30/30\u001b[0m \u001b[32m━━━━━━━━━━━━━━━━━━━━\u001b[0m\u001b[37m\u001b[0m \u001b[1m0s\u001b[0m 2ms/step - attrition_output_accuracy: 0.9184 - attrition_output_loss: 0.2019 - department_output_accuracy: 0.8400 - department_output_loss: 0.4475 - loss: 0.6497 - val_attrition_output_accuracy: 0.8432 - val_attrition_output_loss: 0.4630 - val_department_output_accuracy: 0.5212 - val_department_output_loss: 1.0063 - val_loss: 1.5222\n",
            "Epoch 31/100\n",
            "\u001b[1m30/30\u001b[0m \u001b[32m━━━━━━━━━━━━━━━━━━━━\u001b[0m\u001b[37m\u001b[0m \u001b[1m0s\u001b[0m 2ms/step - attrition_output_accuracy: 0.9359 - attrition_output_loss: 0.1804 - department_output_accuracy: 0.8557 - department_output_loss: 0.4284 - loss: 0.6086 - val_attrition_output_accuracy: 0.8220 - val_attrition_output_loss: 0.5051 - val_department_output_accuracy: 0.5212 - val_department_output_loss: 1.0521 - val_loss: 1.6066\n",
            "Epoch 32/100\n",
            "\u001b[1m30/30\u001b[0m \u001b[32m━━━━━━━━━━━━━━━━━━━━\u001b[0m\u001b[37m\u001b[0m \u001b[1m0s\u001b[0m 2ms/step - attrition_output_accuracy: 0.9249 - attrition_output_loss: 0.2121 - department_output_accuracy: 0.8443 - department_output_loss: 0.4239 - loss: 0.6357 - val_attrition_output_accuracy: 0.8263 - val_attrition_output_loss: 0.5083 - val_department_output_accuracy: 0.5381 - val_department_output_loss: 1.0641 - val_loss: 1.6167\n",
            "Epoch 33/100\n",
            "\u001b[1m30/30\u001b[0m \u001b[32m━━━━━━━━━━━━━━━━━━━━\u001b[0m\u001b[37m\u001b[0m \u001b[1m0s\u001b[0m 2ms/step - attrition_output_accuracy: 0.9224 - attrition_output_loss: 0.2037 - department_output_accuracy: 0.8335 - department_output_loss: 0.4399 - loss: 0.6439 - val_attrition_output_accuracy: 0.8475 - val_attrition_output_loss: 0.4827 - val_department_output_accuracy: 0.5297 - val_department_output_loss: 1.0558 - val_loss: 1.5977\n",
            "Epoch 34/100\n",
            "\u001b[1m30/30\u001b[0m \u001b[32m━━━━━━━━━━━━━━━━━━━━\u001b[0m\u001b[37m\u001b[0m \u001b[1m0s\u001b[0m 2ms/step - attrition_output_accuracy: 0.9465 - attrition_output_loss: 0.1833 - department_output_accuracy: 0.8571 - department_output_loss: 0.3872 - loss: 0.5704 - val_attrition_output_accuracy: 0.8390 - val_attrition_output_loss: 0.5036 - val_department_output_accuracy: 0.5678 - val_department_output_loss: 1.1059 - val_loss: 1.6640\n",
            "Epoch 35/100\n",
            "\u001b[1m30/30\u001b[0m \u001b[32m━━━━━━━━━━━━━━━━━━━━\u001b[0m\u001b[37m\u001b[0m \u001b[1m0s\u001b[0m 2ms/step - attrition_output_accuracy: 0.9397 - attrition_output_loss: 0.1730 - department_output_accuracy: 0.8634 - department_output_loss: 0.3855 - loss: 0.5580 - val_attrition_output_accuracy: 0.8432 - val_attrition_output_loss: 0.5019 - val_department_output_accuracy: 0.5169 - val_department_output_loss: 1.0885 - val_loss: 1.6511\n",
            "Epoch 36/100\n",
            "\u001b[1m30/30\u001b[0m \u001b[32m━━━━━━━━━━━━━━━━━━━━\u001b[0m\u001b[37m\u001b[0m \u001b[1m0s\u001b[0m 2ms/step - attrition_output_accuracy: 0.9478 - attrition_output_loss: 0.1588 - department_output_accuracy: 0.8667 - department_output_loss: 0.3802 - loss: 0.5392 - val_attrition_output_accuracy: 0.8347 - val_attrition_output_loss: 0.4985 - val_department_output_accuracy: 0.5000 - val_department_output_loss: 1.1027 - val_loss: 1.6629\n",
            "Epoch 37/100\n",
            "\u001b[1m30/30\u001b[0m \u001b[32m━━━━━━━━━━━━━━━━━━━━\u001b[0m\u001b[37m\u001b[0m \u001b[1m0s\u001b[0m 2ms/step - attrition_output_accuracy: 0.9347 - attrition_output_loss: 0.1662 - department_output_accuracy: 0.8823 - department_output_loss: 0.3619 - loss: 0.5283 - val_attrition_output_accuracy: 0.8432 - val_attrition_output_loss: 0.5239 - val_department_output_accuracy: 0.5424 - val_department_output_loss: 1.2447 - val_loss: 1.8303\n",
            "Epoch 38/100\n",
            "\u001b[1m30/30\u001b[0m \u001b[32m━━━━━━━━━━━━━━━━━━━━\u001b[0m\u001b[37m\u001b[0m \u001b[1m0s\u001b[0m 2ms/step - attrition_output_accuracy: 0.9351 - attrition_output_loss: 0.1507 - department_output_accuracy: 0.8763 - department_output_loss: 0.3390 - loss: 0.4888 - val_attrition_output_accuracy: 0.8305 - val_attrition_output_loss: 0.5289 - val_department_output_accuracy: 0.4873 - val_department_output_loss: 1.1724 - val_loss: 1.7736\n",
            "Epoch 39/100\n",
            "\u001b[1m30/30\u001b[0m \u001b[32m━━━━━━━━━━━━━━━━━━━━\u001b[0m\u001b[37m\u001b[0m \u001b[1m0s\u001b[0m 2ms/step - attrition_output_accuracy: 0.9463 - attrition_output_loss: 0.1574 - department_output_accuracy: 0.8988 - department_output_loss: 0.3233 - loss: 0.4805 - val_attrition_output_accuracy: 0.8347 - val_attrition_output_loss: 0.5273 - val_department_output_accuracy: 0.5339 - val_department_output_loss: 1.1890 - val_loss: 1.7752\n",
            "Epoch 40/100\n",
            "\u001b[1m30/30\u001b[0m \u001b[32m━━━━━━━━━━━━━━━━━━━━\u001b[0m\u001b[37m\u001b[0m \u001b[1m0s\u001b[0m 2ms/step - attrition_output_accuracy: 0.9498 - attrition_output_loss: 0.1376 - department_output_accuracy: 0.8955 - department_output_loss: 0.3126 - loss: 0.4500 - val_attrition_output_accuracy: 0.8178 - val_attrition_output_loss: 0.5297 - val_department_output_accuracy: 0.5254 - val_department_output_loss: 1.2463 - val_loss: 1.8441\n",
            "Epoch 41/100\n",
            "\u001b[1m30/30\u001b[0m \u001b[32m━━━━━━━━━━━━━━━━━━━━\u001b[0m\u001b[37m\u001b[0m \u001b[1m0s\u001b[0m 3ms/step - attrition_output_accuracy: 0.9669 - attrition_output_loss: 0.1276 - department_output_accuracy: 0.8763 - department_output_loss: 0.3057 - loss: 0.4334 - val_attrition_output_accuracy: 0.8347 - val_attrition_output_loss: 0.5502 - val_department_output_accuracy: 0.5085 - val_department_output_loss: 1.1927 - val_loss: 1.8169\n",
            "Epoch 42/100\n",
            "\u001b[1m30/30\u001b[0m \u001b[32m━━━━━━━━━━━━━━━━━━━━\u001b[0m\u001b[37m\u001b[0m \u001b[1m0s\u001b[0m 2ms/step - attrition_output_accuracy: 0.9475 - attrition_output_loss: 0.1376 - department_output_accuracy: 0.8934 - department_output_loss: 0.3002 - loss: 0.4380 - val_attrition_output_accuracy: 0.8263 - val_attrition_output_loss: 0.5420 - val_department_output_accuracy: 0.4958 - val_department_output_loss: 1.2624 - val_loss: 1.8765\n",
            "Epoch 43/100\n",
            "\u001b[1m30/30\u001b[0m \u001b[32m━━━━━━━━━━━━━━━━━━━━\u001b[0m\u001b[37m\u001b[0m \u001b[1m0s\u001b[0m 2ms/step - attrition_output_accuracy: 0.9679 - attrition_output_loss: 0.1213 - department_output_accuracy: 0.9027 - department_output_loss: 0.2947 - loss: 0.4163 - val_attrition_output_accuracy: 0.8263 - val_attrition_output_loss: 0.5783 - val_department_output_accuracy: 0.5169 - val_department_output_loss: 1.2599 - val_loss: 1.9100\n",
            "Epoch 44/100\n",
            "\u001b[1m30/30\u001b[0m \u001b[32m━━━━━━━━━━━━━━━━━━━━\u001b[0m\u001b[37m\u001b[0m \u001b[1m0s\u001b[0m 2ms/step - attrition_output_accuracy: 0.9603 - attrition_output_loss: 0.1215 - department_output_accuracy: 0.9141 - department_output_loss: 0.2755 - loss: 0.3971 - val_attrition_output_accuracy: 0.8220 - val_attrition_output_loss: 0.6336 - val_department_output_accuracy: 0.5127 - val_department_output_loss: 1.2997 - val_loss: 2.0097\n",
            "Epoch 45/100\n",
            "\u001b[1m30/30\u001b[0m \u001b[32m━━━━━━━━━━━━━━━━━━━━\u001b[0m\u001b[37m\u001b[0m \u001b[1m0s\u001b[0m 2ms/step - attrition_output_accuracy: 0.9603 - attrition_output_loss: 0.1276 - department_output_accuracy: 0.9179 - department_output_loss: 0.2602 - loss: 0.3878 - val_attrition_output_accuracy: 0.8305 - val_attrition_output_loss: 0.6176 - val_department_output_accuracy: 0.5000 - val_department_output_loss: 1.3221 - val_loss: 2.0179\n",
            "Epoch 46/100\n",
            "\u001b[1m30/30\u001b[0m \u001b[32m━━━━━━━━━━━━━━━━━━━━\u001b[0m\u001b[37m\u001b[0m \u001b[1m0s\u001b[0m 2ms/step - attrition_output_accuracy: 0.9585 - attrition_output_loss: 0.1231 - department_output_accuracy: 0.9323 - department_output_loss: 0.2351 - loss: 0.3582 - val_attrition_output_accuracy: 0.8263 - val_attrition_output_loss: 0.6170 - val_department_output_accuracy: 0.5212 - val_department_output_loss: 1.3221 - val_loss: 2.0233\n",
            "Epoch 47/100\n",
            "\u001b[1m30/30\u001b[0m \u001b[32m━━━━━━━━━━━━━━━━━━━━\u001b[0m\u001b[37m\u001b[0m \u001b[1m0s\u001b[0m 2ms/step - attrition_output_accuracy: 0.9692 - attrition_output_loss: 0.1034 - department_output_accuracy: 0.9407 - department_output_loss: 0.2310 - loss: 0.3342 - val_attrition_output_accuracy: 0.8220 - val_attrition_output_loss: 0.6377 - val_department_output_accuracy: 0.4873 - val_department_output_loss: 1.3512 - val_loss: 2.0751\n",
            "Epoch 48/100\n",
            "\u001b[1m30/30\u001b[0m \u001b[32m━━━━━━━━━━━━━━━━━━━━\u001b[0m\u001b[37m\u001b[0m \u001b[1m0s\u001b[0m 2ms/step - attrition_output_accuracy: 0.9587 - attrition_output_loss: 0.1119 - department_output_accuracy: 0.9486 - department_output_loss: 0.2259 - loss: 0.3378 - val_attrition_output_accuracy: 0.8220 - val_attrition_output_loss: 0.6209 - val_department_output_accuracy: 0.5127 - val_department_output_loss: 1.3958 - val_loss: 2.0937\n",
            "Epoch 49/100\n",
            "\u001b[1m30/30\u001b[0m \u001b[32m━━━━━━━━━━━━━━━━━━━━\u001b[0m\u001b[37m\u001b[0m \u001b[1m0s\u001b[0m 2ms/step - attrition_output_accuracy: 0.9655 - attrition_output_loss: 0.1196 - department_output_accuracy: 0.9487 - department_output_loss: 0.2182 - loss: 0.3375 - val_attrition_output_accuracy: 0.8263 - val_attrition_output_loss: 0.6060 - val_department_output_accuracy: 0.5042 - val_department_output_loss: 1.4079 - val_loss: 2.1045\n",
            "Epoch 50/100\n",
            "\u001b[1m30/30\u001b[0m \u001b[32m━━━━━━━━━━━━━━━━━━━━\u001b[0m\u001b[37m\u001b[0m \u001b[1m0s\u001b[0m 3ms/step - attrition_output_accuracy: 0.9675 - attrition_output_loss: 0.1031 - department_output_accuracy: 0.9322 - department_output_loss: 0.2325 - loss: 0.3359 - val_attrition_output_accuracy: 0.8263 - val_attrition_output_loss: 0.6395 - val_department_output_accuracy: 0.5381 - val_department_output_loss: 1.4887 - val_loss: 2.2096\n",
            "Epoch 51/100\n",
            "\u001b[1m30/30\u001b[0m \u001b[32m━━━━━━━━━━━━━━━━━━━━\u001b[0m\u001b[37m\u001b[0m \u001b[1m0s\u001b[0m 2ms/step - attrition_output_accuracy: 0.9698 - attrition_output_loss: 0.0960 - department_output_accuracy: 0.9144 - department_output_loss: 0.2217 - loss: 0.3177 - val_attrition_output_accuracy: 0.7924 - val_attrition_output_loss: 0.6554 - val_department_output_accuracy: 0.5000 - val_department_output_loss: 1.4546 - val_loss: 2.1959\n",
            "Epoch 52/100\n",
            "\u001b[1m30/30\u001b[0m \u001b[32m━━━━━━━━━━━━━━━━━━━━\u001b[0m\u001b[37m\u001b[0m \u001b[1m0s\u001b[0m 2ms/step - attrition_output_accuracy: 0.9725 - attrition_output_loss: 0.0894 - department_output_accuracy: 0.9517 - department_output_loss: 0.1934 - loss: 0.2830 - val_attrition_output_accuracy: 0.8305 - val_attrition_output_loss: 0.6650 - val_department_output_accuracy: 0.5254 - val_department_output_loss: 1.5166 - val_loss: 2.2676\n",
            "Epoch 53/100\n",
            "\u001b[1m30/30\u001b[0m \u001b[32m━━━━━━━━━━━━━━━━━━━━\u001b[0m\u001b[37m\u001b[0m \u001b[1m0s\u001b[0m 2ms/step - attrition_output_accuracy: 0.9668 - attrition_output_loss: 0.0886 - department_output_accuracy: 0.9450 - department_output_loss: 0.1882 - loss: 0.2768 - val_attrition_output_accuracy: 0.8093 - val_attrition_output_loss: 0.6713 - val_department_output_accuracy: 0.5085 - val_department_output_loss: 1.5135 - val_loss: 2.2845\n",
            "Epoch 54/100\n",
            "\u001b[1m30/30\u001b[0m \u001b[32m━━━━━━━━━━━━━━━━━━━━\u001b[0m\u001b[37m\u001b[0m \u001b[1m0s\u001b[0m 2ms/step - attrition_output_accuracy: 0.9783 - attrition_output_loss: 0.0744 - department_output_accuracy: 0.9365 - department_output_loss: 0.1861 - loss: 0.2606 - val_attrition_output_accuracy: 0.8051 - val_attrition_output_loss: 0.6221 - val_department_output_accuracy: 0.5042 - val_department_output_loss: 1.5163 - val_loss: 2.2418\n",
            "Epoch 55/100\n",
            "\u001b[1m30/30\u001b[0m \u001b[32m━━━━━━━━━━━━━━━━━━━━\u001b[0m\u001b[37m\u001b[0m \u001b[1m0s\u001b[0m 2ms/step - attrition_output_accuracy: 0.9718 - attrition_output_loss: 0.0893 - department_output_accuracy: 0.9665 - department_output_loss: 0.1759 - loss: 0.2653 - val_attrition_output_accuracy: 0.8136 - val_attrition_output_loss: 0.7447 - val_department_output_accuracy: 0.4915 - val_department_output_loss: 1.5206 - val_loss: 2.3637\n",
            "Epoch 56/100\n",
            "\u001b[1m30/30\u001b[0m \u001b[32m━━━━━━━━━━━━━━━━━━━━\u001b[0m\u001b[37m\u001b[0m \u001b[1m0s\u001b[0m 2ms/step - attrition_output_accuracy: 0.9731 - attrition_output_loss: 0.0784 - department_output_accuracy: 0.9538 - department_output_loss: 0.1630 - loss: 0.2415 - val_attrition_output_accuracy: 0.8136 - val_attrition_output_loss: 0.6756 - val_department_output_accuracy: 0.4788 - val_department_output_loss: 1.5381 - val_loss: 2.3109\n",
            "Epoch 57/100\n",
            "\u001b[1m30/30\u001b[0m \u001b[32m━━━━━━━━━━━━━━━━━━━━\u001b[0m\u001b[37m\u001b[0m \u001b[1m0s\u001b[0m 2ms/step - attrition_output_accuracy: 0.9844 - attrition_output_loss: 0.0695 - department_output_accuracy: 0.9645 - department_output_loss: 0.1617 - loss: 0.2312 - val_attrition_output_accuracy: 0.8178 - val_attrition_output_loss: 0.7268 - val_department_output_accuracy: 0.4958 - val_department_output_loss: 1.6199 - val_loss: 2.4380\n",
            "Epoch 58/100\n",
            "\u001b[1m30/30\u001b[0m \u001b[32m━━━━━━━━━━━━━━━━━━━━\u001b[0m\u001b[37m\u001b[0m \u001b[1m0s\u001b[0m 3ms/step - attrition_output_accuracy: 0.9800 - attrition_output_loss: 0.0949 - department_output_accuracy: 0.9620 - department_output_loss: 0.1660 - loss: 0.2609 - val_attrition_output_accuracy: 0.8347 - val_attrition_output_loss: 0.7142 - val_department_output_accuracy: 0.4873 - val_department_output_loss: 1.6830 - val_loss: 2.5017\n",
            "Epoch 59/100\n",
            "\u001b[1m30/30\u001b[0m \u001b[32m━━━━━━━━━━━━━━━━━━━━\u001b[0m\u001b[37m\u001b[0m \u001b[1m0s\u001b[0m 2ms/step - attrition_output_accuracy: 0.9883 - attrition_output_loss: 0.0586 - department_output_accuracy: 0.9710 - department_output_loss: 0.1454 - loss: 0.2040 - val_attrition_output_accuracy: 0.8263 - val_attrition_output_loss: 0.7265 - val_department_output_accuracy: 0.5000 - val_department_output_loss: 1.6592 - val_loss: 2.4902\n",
            "Epoch 60/100\n",
            "\u001b[1m30/30\u001b[0m \u001b[32m━━━━━━━━━━━━━━━━━━━━\u001b[0m\u001b[37m\u001b[0m \u001b[1m0s\u001b[0m 2ms/step - attrition_output_accuracy: 0.9863 - attrition_output_loss: 0.0744 - department_output_accuracy: 0.9685 - department_output_loss: 0.1454 - loss: 0.2198 - val_attrition_output_accuracy: 0.8263 - val_attrition_output_loss: 0.7873 - val_department_output_accuracy: 0.4831 - val_department_output_loss: 1.6637 - val_loss: 2.5594\n",
            "Epoch 61/100\n",
            "\u001b[1m30/30\u001b[0m \u001b[32m━━━━━━━━━━━━━━━━━━━━\u001b[0m\u001b[37m\u001b[0m \u001b[1m0s\u001b[0m 2ms/step - attrition_output_accuracy: 0.9861 - attrition_output_loss: 0.0583 - department_output_accuracy: 0.9690 - department_output_loss: 0.1333 - loss: 0.1915 - val_attrition_output_accuracy: 0.8051 - val_attrition_output_loss: 0.7748 - val_department_output_accuracy: 0.4831 - val_department_output_loss: 1.7036 - val_loss: 2.5773\n",
            "Epoch 62/100\n",
            "\u001b[1m30/30\u001b[0m \u001b[32m━━━━━━━━━━━━━━━━━━━━\u001b[0m\u001b[37m\u001b[0m \u001b[1m0s\u001b[0m 2ms/step - attrition_output_accuracy: 0.9842 - attrition_output_loss: 0.0625 - department_output_accuracy: 0.9710 - department_output_loss: 0.1377 - loss: 0.2002 - val_attrition_output_accuracy: 0.8178 - val_attrition_output_loss: 0.8167 - val_department_output_accuracy: 0.4873 - val_department_output_loss: 1.8321 - val_loss: 2.7555\n",
            "Epoch 63/100\n",
            "\u001b[1m30/30\u001b[0m \u001b[32m━━━━━━━━━━━━━━━━━━━━\u001b[0m\u001b[37m\u001b[0m \u001b[1m0s\u001b[0m 2ms/step - attrition_output_accuracy: 0.9842 - attrition_output_loss: 0.0616 - department_output_accuracy: 0.9768 - department_output_loss: 0.1278 - loss: 0.1894 - val_attrition_output_accuracy: 0.8390 - val_attrition_output_loss: 0.7659 - val_department_output_accuracy: 0.5085 - val_department_output_loss: 1.7572 - val_loss: 2.6471\n",
            "Epoch 64/100\n",
            "\u001b[1m30/30\u001b[0m \u001b[32m━━━━━━━━━━━━━━━━━━━━\u001b[0m\u001b[37m\u001b[0m \u001b[1m0s\u001b[0m 2ms/step - attrition_output_accuracy: 0.9877 - attrition_output_loss: 0.0581 - department_output_accuracy: 0.9837 - department_output_loss: 0.1146 - loss: 0.1728 - val_attrition_output_accuracy: 0.8220 - val_attrition_output_loss: 0.8270 - val_department_output_accuracy: 0.5000 - val_department_output_loss: 1.8371 - val_loss: 2.7766\n",
            "Epoch 65/100\n",
            "\u001b[1m30/30\u001b[0m \u001b[32m━━━━━━━━━━━━━━━━━━━━\u001b[0m\u001b[37m\u001b[0m \u001b[1m0s\u001b[0m 2ms/step - attrition_output_accuracy: 0.9895 - attrition_output_loss: 0.0637 - department_output_accuracy: 0.9850 - department_output_loss: 0.1117 - loss: 0.1755 - val_attrition_output_accuracy: 0.8178 - val_attrition_output_loss: 0.8815 - val_department_output_accuracy: 0.4958 - val_department_output_loss: 1.8817 - val_loss: 2.8834\n",
            "Epoch 66/100\n",
            "\u001b[1m30/30\u001b[0m \u001b[32m━━━━━━━━━━━━━━━━━━━━\u001b[0m\u001b[37m\u001b[0m \u001b[1m0s\u001b[0m 3ms/step - attrition_output_accuracy: 0.9867 - attrition_output_loss: 0.0746 - department_output_accuracy: 0.9798 - department_output_loss: 0.1058 - loss: 0.1803 - val_attrition_output_accuracy: 0.8263 - val_attrition_output_loss: 0.7818 - val_department_output_accuracy: 0.4831 - val_department_output_loss: 1.8017 - val_loss: 2.7007\n",
            "Epoch 67/100\n",
            "\u001b[1m30/30\u001b[0m \u001b[32m━━━━━━━━━━━━━━━━━━━━\u001b[0m\u001b[37m\u001b[0m \u001b[1m0s\u001b[0m 2ms/step - attrition_output_accuracy: 0.9926 - attrition_output_loss: 0.0467 - department_output_accuracy: 0.9748 - department_output_loss: 0.1074 - loss: 0.1539 - val_attrition_output_accuracy: 0.8136 - val_attrition_output_loss: 0.8944 - val_department_output_accuracy: 0.4873 - val_department_output_loss: 1.9701 - val_loss: 2.9663\n",
            "Epoch 68/100\n",
            "\u001b[1m30/30\u001b[0m \u001b[32m━━━━━━━━━━━━━━━━━━━━\u001b[0m\u001b[37m\u001b[0m \u001b[1m0s\u001b[0m 2ms/step - attrition_output_accuracy: 0.9931 - attrition_output_loss: 0.0536 - department_output_accuracy: 0.9883 - department_output_loss: 0.0918 - loss: 0.1455 - val_attrition_output_accuracy: 0.8220 - val_attrition_output_loss: 0.8567 - val_department_output_accuracy: 0.5042 - val_department_output_loss: 1.9247 - val_loss: 2.8938\n",
            "Epoch 69/100\n",
            "\u001b[1m30/30\u001b[0m \u001b[32m━━━━━━━━━━━━━━━━━━━━\u001b[0m\u001b[37m\u001b[0m \u001b[1m0s\u001b[0m 2ms/step - attrition_output_accuracy: 0.9918 - attrition_output_loss: 0.0500 - department_output_accuracy: 0.9851 - department_output_loss: 0.0896 - loss: 0.1396 - val_attrition_output_accuracy: 0.8093 - val_attrition_output_loss: 0.8357 - val_department_output_accuracy: 0.5169 - val_department_output_loss: 1.9906 - val_loss: 2.9520\n",
            "Epoch 70/100\n",
            "\u001b[1m30/30\u001b[0m \u001b[32m━━━━━━━━━━━━━━━━━━━━\u001b[0m\u001b[37m\u001b[0m \u001b[1m0s\u001b[0m 2ms/step - attrition_output_accuracy: 0.9975 - attrition_output_loss: 0.0371 - department_output_accuracy: 0.9839 - department_output_loss: 0.0931 - loss: 0.1302 - val_attrition_output_accuracy: 0.8178 - val_attrition_output_loss: 0.8350 - val_department_output_accuracy: 0.4958 - val_department_output_loss: 1.9595 - val_loss: 2.9182\n",
            "Epoch 71/100\n",
            "\u001b[1m30/30\u001b[0m \u001b[32m━━━━━━━━━━━━━━━━━━━━\u001b[0m\u001b[37m\u001b[0m \u001b[1m0s\u001b[0m 2ms/step - attrition_output_accuracy: 0.9975 - attrition_output_loss: 0.0344 - department_output_accuracy: 0.9841 - department_output_loss: 0.0927 - loss: 0.1271 - val_attrition_output_accuracy: 0.8136 - val_attrition_output_loss: 0.8479 - val_department_output_accuracy: 0.4958 - val_department_output_loss: 2.0387 - val_loss: 3.0066\n",
            "Epoch 72/100\n",
            "\u001b[1m30/30\u001b[0m \u001b[32m━━━━━━━━━━━━━━━━━━━━\u001b[0m\u001b[37m\u001b[0m \u001b[1m0s\u001b[0m 2ms/step - attrition_output_accuracy: 0.9960 - attrition_output_loss: 0.0465 - department_output_accuracy: 0.9920 - department_output_loss: 0.0734 - loss: 0.1199 - val_attrition_output_accuracy: 0.8136 - val_attrition_output_loss: 0.9154 - val_department_output_accuracy: 0.4788 - val_department_output_loss: 2.1065 - val_loss: 3.1507\n",
            "Epoch 73/100\n",
            "\u001b[1m30/30\u001b[0m \u001b[32m━━━━━━━━━━━━━━━━━━━━\u001b[0m\u001b[37m\u001b[0m \u001b[1m0s\u001b[0m 2ms/step - attrition_output_accuracy: 0.9903 - attrition_output_loss: 0.0434 - department_output_accuracy: 0.9879 - department_output_loss: 0.0893 - loss: 0.1327 - val_attrition_output_accuracy: 0.8136 - val_attrition_output_loss: 0.8843 - val_department_output_accuracy: 0.4831 - val_department_output_loss: 2.0895 - val_loss: 3.0951\n",
            "Epoch 74/100\n",
            "\u001b[1m30/30\u001b[0m \u001b[32m━━━━━━━━━━━━━━━━━━━━\u001b[0m\u001b[37m\u001b[0m \u001b[1m0s\u001b[0m 3ms/step - attrition_output_accuracy: 0.9973 - attrition_output_loss: 0.0319 - department_output_accuracy: 0.9819 - department_output_loss: 0.0813 - loss: 0.1131 - val_attrition_output_accuracy: 0.8136 - val_attrition_output_loss: 0.9390 - val_department_output_accuracy: 0.4915 - val_department_output_loss: 2.0809 - val_loss: 3.1510\n",
            "Epoch 75/100\n",
            "\u001b[1m30/30\u001b[0m \u001b[32m━━━━━━━━━━━━━━━━━━━━\u001b[0m\u001b[37m\u001b[0m \u001b[1m0s\u001b[0m 2ms/step - attrition_output_accuracy: 0.9920 - attrition_output_loss: 0.0341 - department_output_accuracy: 0.9908 - department_output_loss: 0.0776 - loss: 0.1117 - val_attrition_output_accuracy: 0.8136 - val_attrition_output_loss: 0.8994 - val_department_output_accuracy: 0.4873 - val_department_output_loss: 2.0941 - val_loss: 3.1256\n",
            "Epoch 76/100\n",
            "\u001b[1m30/30\u001b[0m \u001b[32m━━━━━━━━━━━━━━━━━━━━\u001b[0m\u001b[37m\u001b[0m \u001b[1m0s\u001b[0m 2ms/step - attrition_output_accuracy: 0.9963 - attrition_output_loss: 0.0333 - department_output_accuracy: 0.9904 - department_output_loss: 0.0625 - loss: 0.0959 - val_attrition_output_accuracy: 0.8051 - val_attrition_output_loss: 1.0120 - val_department_output_accuracy: 0.4788 - val_department_output_loss: 2.1974 - val_loss: 3.3312\n",
            "Epoch 77/100\n",
            "\u001b[1m30/30\u001b[0m \u001b[32m━━━━━━━━━━━━━━━━━━━━\u001b[0m\u001b[37m\u001b[0m \u001b[1m0s\u001b[0m 2ms/step - attrition_output_accuracy: 0.9995 - attrition_output_loss: 0.0215 - department_output_accuracy: 0.9960 - department_output_loss: 0.0603 - loss: 0.0819 - val_attrition_output_accuracy: 0.8220 - val_attrition_output_loss: 1.0034 - val_department_output_accuracy: 0.4831 - val_department_output_loss: 2.1715 - val_loss: 3.2960\n",
            "Epoch 78/100\n",
            "\u001b[1m30/30\u001b[0m \u001b[32m━━━━━━━━━━━━━━━━━━━━\u001b[0m\u001b[37m\u001b[0m \u001b[1m0s\u001b[0m 2ms/step - attrition_output_accuracy: 0.9947 - attrition_output_loss: 0.0264 - department_output_accuracy: 0.9923 - department_output_loss: 0.0603 - loss: 0.0867 - val_attrition_output_accuracy: 0.8008 - val_attrition_output_loss: 0.9273 - val_department_output_accuracy: 0.4915 - val_department_output_loss: 2.2929 - val_loss: 3.3433\n",
            "Epoch 79/100\n",
            "\u001b[1m30/30\u001b[0m \u001b[32m━━━━━━━━━━━━━━━━━━━━\u001b[0m\u001b[37m\u001b[0m \u001b[1m0s\u001b[0m 2ms/step - attrition_output_accuracy: 0.9986 - attrition_output_loss: 0.0289 - department_output_accuracy: 0.9963 - department_output_loss: 0.0595 - loss: 0.0884 - val_attrition_output_accuracy: 0.8093 - val_attrition_output_loss: 0.9778 - val_department_output_accuracy: 0.4915 - val_department_output_loss: 2.2733 - val_loss: 3.3828\n",
            "Epoch 80/100\n",
            "\u001b[1m30/30\u001b[0m \u001b[32m━━━━━━━━━━━━━━━━━━━━\u001b[0m\u001b[37m\u001b[0m \u001b[1m0s\u001b[0m 2ms/step - attrition_output_accuracy: 0.9973 - attrition_output_loss: 0.0255 - department_output_accuracy: 0.9961 - department_output_loss: 0.0560 - loss: 0.0814 - val_attrition_output_accuracy: 0.8263 - val_attrition_output_loss: 0.9870 - val_department_output_accuracy: 0.4831 - val_department_output_loss: 2.2809 - val_loss: 3.3978\n",
            "Epoch 81/100\n",
            "\u001b[1m30/30\u001b[0m \u001b[32m━━━━━━━━━━━━━━━━━━━━\u001b[0m\u001b[37m\u001b[0m \u001b[1m0s\u001b[0m 3ms/step - attrition_output_accuracy: 0.9944 - attrition_output_loss: 0.0247 - department_output_accuracy: 0.9963 - department_output_loss: 0.0479 - loss: 0.0727 - val_attrition_output_accuracy: 0.8008 - val_attrition_output_loss: 0.9671 - val_department_output_accuracy: 0.4746 - val_department_output_loss: 2.3078 - val_loss: 3.3944\n",
            "Epoch 82/100\n",
            "\u001b[1m30/30\u001b[0m \u001b[32m━━━━━━━━━━━━━━━━━━━━\u001b[0m\u001b[37m\u001b[0m \u001b[1m0s\u001b[0m 2ms/step - attrition_output_accuracy: 0.9937 - attrition_output_loss: 0.0267 - department_output_accuracy: 0.9970 - department_output_loss: 0.0496 - loss: 0.0764 - val_attrition_output_accuracy: 0.8178 - val_attrition_output_loss: 1.0063 - val_department_output_accuracy: 0.4915 - val_department_output_loss: 2.2945 - val_loss: 3.4378\n",
            "Epoch 83/100\n",
            "\u001b[1m30/30\u001b[0m \u001b[32m━━━━━━━━━━━━━━━━━━━━\u001b[0m\u001b[37m\u001b[0m \u001b[1m0s\u001b[0m 2ms/step - attrition_output_accuracy: 0.9971 - attrition_output_loss: 0.0179 - department_output_accuracy: 0.9978 - department_output_loss: 0.0488 - loss: 0.0668 - val_attrition_output_accuracy: 0.8136 - val_attrition_output_loss: 1.0073 - val_department_output_accuracy: 0.4831 - val_department_output_loss: 2.3243 - val_loss: 3.4608\n",
            "Epoch 84/100\n",
            "\u001b[1m30/30\u001b[0m \u001b[32m━━━━━━━━━━━━━━━━━━━━\u001b[0m\u001b[37m\u001b[0m \u001b[1m0s\u001b[0m 2ms/step - attrition_output_accuracy: 0.9992 - attrition_output_loss: 0.0156 - department_output_accuracy: 0.9988 - department_output_loss: 0.0414 - loss: 0.0570 - val_attrition_output_accuracy: 0.8093 - val_attrition_output_loss: 0.9843 - val_department_output_accuracy: 0.4788 - val_department_output_loss: 2.3852 - val_loss: 3.4958\n",
            "Epoch 85/100\n",
            "\u001b[1m30/30\u001b[0m \u001b[32m━━━━━━━━━━━━━━━━━━━━\u001b[0m\u001b[37m\u001b[0m \u001b[1m0s\u001b[0m 2ms/step - attrition_output_accuracy: 0.9955 - attrition_output_loss: 0.0254 - department_output_accuracy: 0.9960 - department_output_loss: 0.0434 - loss: 0.0688 - val_attrition_output_accuracy: 0.8008 - val_attrition_output_loss: 1.0471 - val_department_output_accuracy: 0.4788 - val_department_output_loss: 2.3954 - val_loss: 3.5820\n",
            "Epoch 86/100\n",
            "\u001b[1m30/30\u001b[0m \u001b[32m━━━━━━━━━━━━━━━━━━━━\u001b[0m\u001b[37m\u001b[0m \u001b[1m0s\u001b[0m 2ms/step - attrition_output_accuracy: 0.9982 - attrition_output_loss: 0.0171 - department_output_accuracy: 0.9970 - department_output_loss: 0.0399 - loss: 0.0570 - val_attrition_output_accuracy: 0.8220 - val_attrition_output_loss: 1.0388 - val_department_output_accuracy: 0.4915 - val_department_output_loss: 2.4530 - val_loss: 3.6277\n",
            "Epoch 87/100\n",
            "\u001b[1m30/30\u001b[0m \u001b[32m━━━━━━━━━━━━━━━━━━━━\u001b[0m\u001b[37m\u001b[0m \u001b[1m0s\u001b[0m 3ms/step - attrition_output_accuracy: 0.9948 - attrition_output_loss: 0.0232 - department_output_accuracy: 0.9999 - department_output_loss: 0.0385 - loss: 0.0617 - val_attrition_output_accuracy: 0.8051 - val_attrition_output_loss: 1.0965 - val_department_output_accuracy: 0.4746 - val_department_output_loss: 2.4995 - val_loss: 3.7324\n",
            "Epoch 88/100\n",
            "\u001b[1m30/30\u001b[0m \u001b[32m━━━━━━━━━━━━━━━━━━━━\u001b[0m\u001b[37m\u001b[0m \u001b[1m0s\u001b[0m 2ms/step - attrition_output_accuracy: 0.9996 - attrition_output_loss: 0.0171 - department_output_accuracy: 0.9954 - department_output_loss: 0.0419 - loss: 0.0590 - val_attrition_output_accuracy: 0.8178 - val_attrition_output_loss: 1.0745 - val_department_output_accuracy: 0.4788 - val_department_output_loss: 2.4994 - val_loss: 3.7222\n",
            "Epoch 89/100\n",
            "\u001b[1m30/30\u001b[0m \u001b[32m━━━━━━━━━━━━━━━━━━━━\u001b[0m\u001b[37m\u001b[0m \u001b[1m0s\u001b[0m 2ms/step - attrition_output_accuracy: 0.9985 - attrition_output_loss: 0.0149 - department_output_accuracy: 0.9983 - department_output_loss: 0.0338 - loss: 0.0487 - val_attrition_output_accuracy: 0.8220 - val_attrition_output_loss: 1.0815 - val_department_output_accuracy: 0.4831 - val_department_output_loss: 2.5335 - val_loss: 3.7528\n",
            "Epoch 90/100\n",
            "\u001b[1m30/30\u001b[0m \u001b[32m━━━━━━━━━━━━━━━━━━━━\u001b[0m\u001b[37m\u001b[0m \u001b[1m0s\u001b[0m 2ms/step - attrition_output_accuracy: 0.9995 - attrition_output_loss: 0.0137 - department_output_accuracy: 0.9949 - department_output_loss: 0.0333 - loss: 0.0470 - val_attrition_output_accuracy: 0.8178 - val_attrition_output_loss: 1.1683 - val_department_output_accuracy: 0.4873 - val_department_output_loss: 2.5708 - val_loss: 3.8796\n",
            "Epoch 91/100\n",
            "\u001b[1m30/30\u001b[0m \u001b[32m━━━━━━━━━━━━━━━━━━━━\u001b[0m\u001b[37m\u001b[0m \u001b[1m0s\u001b[0m 2ms/step - attrition_output_accuracy: 0.9964 - attrition_output_loss: 0.0180 - department_output_accuracy: 0.9962 - department_output_loss: 0.0388 - loss: 0.0569 - val_attrition_output_accuracy: 0.8220 - val_attrition_output_loss: 1.1167 - val_department_output_accuracy: 0.4915 - val_department_output_loss: 2.6623 - val_loss: 3.9108\n",
            "Epoch 92/100\n",
            "\u001b[1m30/30\u001b[0m \u001b[32m━━━━━━━━━━━━━━━━━━━━\u001b[0m\u001b[37m\u001b[0m \u001b[1m0s\u001b[0m 2ms/step - attrition_output_accuracy: 0.9962 - attrition_output_loss: 0.0170 - department_output_accuracy: 0.9999 - department_output_loss: 0.0317 - loss: 0.0486 - val_attrition_output_accuracy: 0.8008 - val_attrition_output_loss: 1.1167 - val_department_output_accuracy: 0.4831 - val_department_output_loss: 2.5962 - val_loss: 3.8471\n",
            "Epoch 93/100\n",
            "\u001b[1m30/30\u001b[0m \u001b[32m━━━━━━━━━━━━━━━━━━━━\u001b[0m\u001b[37m\u001b[0m \u001b[1m0s\u001b[0m 2ms/step - attrition_output_accuracy: 0.9996 - attrition_output_loss: 0.0150 - department_output_accuracy: 0.9964 - department_output_loss: 0.0376 - loss: 0.0526 - val_attrition_output_accuracy: 0.8178 - val_attrition_output_loss: 1.1544 - val_department_output_accuracy: 0.4788 - val_department_output_loss: 2.6562 - val_loss: 3.9465\n",
            "Epoch 94/100\n",
            "\u001b[1m30/30\u001b[0m \u001b[32m━━━━━━━━━━━━━━━━━━━━\u001b[0m\u001b[37m\u001b[0m \u001b[1m0s\u001b[0m 2ms/step - attrition_output_accuracy: 0.9981 - attrition_output_loss: 0.0122 - department_output_accuracy: 0.9974 - department_output_loss: 0.0305 - loss: 0.0427 - val_attrition_output_accuracy: 0.8178 - val_attrition_output_loss: 1.1205 - val_department_output_accuracy: 0.4788 - val_department_output_loss: 2.6207 - val_loss: 3.8831\n",
            "Epoch 95/100\n",
            "\u001b[1m30/30\u001b[0m \u001b[32m━━━━━━━━━━━━━━━━━━━━\u001b[0m\u001b[37m\u001b[0m \u001b[1m0s\u001b[0m 2ms/step - attrition_output_accuracy: 0.9986 - attrition_output_loss: 0.0108 - department_output_accuracy: 0.9986 - department_output_loss: 0.0249 - loss: 0.0357 - val_attrition_output_accuracy: 0.8136 - val_attrition_output_loss: 1.2065 - val_department_output_accuracy: 0.4831 - val_department_output_loss: 2.6654 - val_loss: 4.0339\n",
            "Epoch 96/100\n",
            "\u001b[1m30/30\u001b[0m \u001b[32m━━━━━━━━━━━━━━━━━━━━\u001b[0m\u001b[37m\u001b[0m \u001b[1m0s\u001b[0m 2ms/step - attrition_output_accuracy: 0.9967 - attrition_output_loss: 0.0157 - department_output_accuracy: 0.9955 - department_output_loss: 0.0267 - loss: 0.0423 - val_attrition_output_accuracy: 0.8051 - val_attrition_output_loss: 1.0941 - val_department_output_accuracy: 0.4788 - val_department_output_loss: 2.7111 - val_loss: 3.9501\n",
            "Epoch 97/100\n",
            "\u001b[1m30/30\u001b[0m \u001b[32m━━━━━━━━━━━━━━━━━━━━\u001b[0m\u001b[37m\u001b[0m \u001b[1m0s\u001b[0m 2ms/step - attrition_output_accuracy: 0.9995 - attrition_output_loss: 0.0122 - department_output_accuracy: 0.9980 - department_output_loss: 0.0260 - loss: 0.0382 - val_attrition_output_accuracy: 0.8136 - val_attrition_output_loss: 1.1654 - val_department_output_accuracy: 0.4873 - val_department_output_loss: 2.7972 - val_loss: 4.1154\n",
            "Epoch 98/100\n",
            "\u001b[1m30/30\u001b[0m \u001b[32m━━━━━━━━━━━━━━━━━━━━\u001b[0m\u001b[37m\u001b[0m \u001b[1m0s\u001b[0m 2ms/step - attrition_output_accuracy: 0.9963 - attrition_output_loss: 0.0125 - department_output_accuracy: 0.9999 - department_output_loss: 0.0256 - loss: 0.0382 - val_attrition_output_accuracy: 0.8051 - val_attrition_output_loss: 1.1796 - val_department_output_accuracy: 0.4788 - val_department_output_loss: 2.6895 - val_loss: 4.0215\n",
            "Epoch 99/100\n",
            "\u001b[1m30/30\u001b[0m \u001b[32m━━━━━━━━━━━━━━━━━━━━\u001b[0m\u001b[37m\u001b[0m \u001b[1m0s\u001b[0m 2ms/step - attrition_output_accuracy: 0.9996 - attrition_output_loss: 0.0096 - department_output_accuracy: 0.9981 - department_output_loss: 0.0246 - loss: 0.0342 - val_attrition_output_accuracy: 0.8093 - val_attrition_output_loss: 1.2626 - val_department_output_accuracy: 0.4831 - val_department_output_loss: 2.7781 - val_loss: 4.1800\n",
            "Epoch 100/100\n",
            "\u001b[1m30/30\u001b[0m \u001b[32m━━━━━━━━━━━━━━━━━━━━\u001b[0m\u001b[37m\u001b[0m \u001b[1m0s\u001b[0m 2ms/step - attrition_output_accuracy: 0.9997 - attrition_output_loss: 0.0083 - department_output_accuracy: 0.9953 - department_output_loss: 0.0261 - loss: 0.0344 - val_attrition_output_accuracy: 0.8051 - val_attrition_output_loss: 1.1706 - val_department_output_accuracy: 0.4831 - val_department_output_loss: 2.7461 - val_loss: 4.0575\n"
          ]
        },
        {
          "data": {
            "text/plain": [
              "<keras.src.callbacks.history.History at 0x1d4f722a550>"
            ]
          },
          "execution_count": 19,
          "metadata": {},
          "output_type": "execute_result"
        }
      ],
      "source": [
        "# Train the model\n",
        "model.fit(\n",
        "    X_train_scaled,\n",
        "    {'department_output': department_encoded_train, 'attrition_output': attrition_encoded_train},\n",
        "    epochs=100,\n",
        "    batch_size=32,\n",
        "    validation_split=0.2\n",
        ")"
      ]
    },
    {
      "cell_type": "code",
      "execution_count": 20,
      "metadata": {
        "colab": {
          "base_uri": "https://localhost:8080/"
        },
        "id": "VsMoaQlgGc3U",
        "outputId": "1bd4e601-e964-4abc-ad83-aeecf6b696be"
      },
      "outputs": [
        {
          "name": "stdout",
          "output_type": "stream",
          "text": [
            "\u001b[1m10/10\u001b[0m \u001b[32m━━━━━━━━━━━━━━━━━━━━\u001b[0m\u001b[37m\u001b[0m \u001b[1m0s\u001b[0m 2ms/step - attrition_output_accuracy: 0.8291 - attrition_output_loss: 1.4956 - department_output_accuracy: 0.5551 - department_output_loss: 2.9266 - loss: 4.4705\n"
          ]
        },
        {
          "data": {
            "text/plain": [
              "[4.259379863739014,\n",
              " 1.3021326065063477,\n",
              " 2.6914868354797363,\n",
              " 0.8367347121238708,\n",
              " 0.5272108912467957]"
            ]
          },
          "execution_count": 20,
          "metadata": {},
          "output_type": "execute_result"
        }
      ],
      "source": [
        "# Evaluate the model with the testing data\n",
        "results = model.evaluate(X_test_scaled,\n",
        "                                    {\n",
        "                                        'department_output': department_encoded_test,\n",
        "                                        'attrition_output': attrition_encoded_test\n",
        "                                    },\n",
        "                                    verbose=1)\n",
        "results"
      ]
    },
    {
      "cell_type": "code",
      "execution_count": 21,
      "metadata": {
        "colab": {
          "base_uri": "https://localhost:8080/"
        },
        "id": "ZlCtlHi0Vt54",
        "outputId": "bc21ef3e-80c2-4b38-9c29-79515bc23dec"
      },
      "outputs": [
        {
          "name": "stdout",
          "output_type": "stream",
          "text": [
            "Department predictions accuracy: 52.72%\n",
            "Attrition predictions accuracy: 83.67%\n"
          ]
        }
      ],
      "source": [
        "# Print the accuracy for both department and attrition\n",
        "department_accuracy = results[4]\n",
        "attrition_accuracy = results[3]\n",
        "\n",
        "# Print the results\n",
        "print(f\"Department predictions accuracy: {department_accuracy * 100:.2f}%\")\n",
        "print(f\"Attrition predictions accuracy: {attrition_accuracy * 100:.2f}%\")"
      ]
    },
    {
      "cell_type": "markdown",
      "metadata": {
        "id": "eGSyfsZfWOQM"
      },
      "source": [
        "# Summary\n",
        "\n",
        "In the provided space below, briefly answer the following questions.\n",
        "\n",
        "1. Is accuracy the best metric to use on this data? Why or why not?\n",
        "\n",
        "2. What activation functions did you choose for your output layers, and why?\n",
        "\n",
        "3. Can you name a few ways that this model might be improved?"
      ]
    },
    {
      "cell_type": "markdown",
      "metadata": {
        "id": "pi9SLpFnWvbF"
      },
      "source": [
        "1. Accuracy is a useful metric for a general overview, but it may not always be the best metric, especially if there is class imbalance in the data (e.g., more employees belong to one department than others, or significantly more employees do not leave the company than do). In such cases, metrics like precision, recall, or the F1-score may provide more insight, particularly if false positives or false negatives are more important to avoid in one of the tasks (e.g., attrition prediction).\n",
        "\n",
        "2. For the Department output, I used the softmax activation function, as it is ideal for multi-class classification tasks (outcomes are mutually exclusive). Softmax ensures that the output probabilities sum to 1, assigning each department a probability score, and the department with the highest probability is selected as the prediction. For the other hand, with the Attrition output I used the sigmoid activation function, which is suitable for binary classification. Sigmoid outputs a value between 0 and 1, making it ideal for predicting whether an employee will leave the company (0 = no, 1 = yes).\n",
        "\n",
        "\n",
        "3. Here are some ways to improve the model:\n",
        "\n",
        "* Feature Engineering: Experiment with different feature combinations or create new features that better capture the relationships between employees' attributes and their department or likelihood of leaving.\n",
        "\n",
        "* Handling Class Imbalance: If there is class imbalance, using techniques like class weighting, oversampling, or undersampling can help the model learn better from minority classes (especially for department prediction).\n",
        "\n",
        "* Hyperparameter Tuning: Optimize parameters such as learning rate, batch size, and the number of neurons in hidden layers to improve model performance. Grid search or random search can help find the best combination.\n",
        "\n",
        "* Regularization: Use techniques like dropout or L2 regularization to prevent overfitting, particularly if the model performs well on the training data but poorly on the test data.\n",
        "\n",
        "* Model Complexity: Consider increasing the complexity of the neural network by adding more layers or neurons to the shared or branch-specific layers, especially for department prediction, where accuracy is low.\n",
        "\n"
      ]
    },
    {
      "cell_type": "markdown",
      "metadata": {},
      "source": []
    }
  ],
  "metadata": {
    "colab": {
      "provenance": []
    },
    "kernelspec": {
      "display_name": "Python 3",
      "language": "python",
      "name": "python3"
    },
    "language_info": {
      "codemirror_mode": {
        "name": "ipython",
        "version": 3
      },
      "file_extension": ".py",
      "mimetype": "text/x-python",
      "name": "python",
      "nbconvert_exporter": "python",
      "pygments_lexer": "ipython3",
      "version": "3.11.7"
    },
    "vscode": {
      "interpreter": {
        "hash": "31f2aee4e71d21fbe5cf8b01ff0e069b9275f58929596ceb00d14d90e3e16cd6"
      }
    }
  },
  "nbformat": 4,
  "nbformat_minor": 0
}
